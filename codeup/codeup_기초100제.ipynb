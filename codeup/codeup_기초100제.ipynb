{
  "nbformat": 4,
  "nbformat_minor": 0,
  "metadata": {
    "colab": {
      "name": "codeup_기초100제.ipynb",
      "provenance": []
    },
    "kernelspec": {
      "name": "python3",
      "display_name": "Python 3"
    }
  },
  "cells": [
    {
      "cell_type": "markdown",
      "metadata": {
        "id": "sqOMPy9NnN8B"
      },
      "source": [
        "# CodeUp 기초 100제"
      ]
    },
    {
      "cell_type": "code",
      "metadata": {
        "id": "ZL6HPEuCm9iK",
        "outputId": "6f4e4ebc-b34e-49ff-9da4-72372f6cf629",
        "colab": {
          "base_uri": "https://localhost:8080/",
          "height": 34
        }
      },
      "source": [
        "# 1001\n",
        "print('Hello')"
      ],
      "execution_count": 1,
      "outputs": [
        {
          "output_type": "stream",
          "text": [
            "Hello\n"
          ],
          "name": "stdout"
        }
      ]
    },
    {
      "cell_type": "code",
      "metadata": {
        "id": "U78dzStFnaLQ",
        "outputId": "1a38b750-0bbb-427f-99f8-8a9ebc80ddf1",
        "colab": {
          "base_uri": "https://localhost:8080/",
          "height": 34
        }
      },
      "source": [
        "# 1002\n",
        "print('Hello World')"
      ],
      "execution_count": 2,
      "outputs": [
        {
          "output_type": "stream",
          "text": [
            "Hello World\n"
          ],
          "name": "stdout"
        }
      ]
    },
    {
      "cell_type": "code",
      "metadata": {
        "id": "nSJcKEK9oAs2",
        "outputId": "fc3866f3-f121-44ff-e2cd-36e014185b23",
        "colab": {
          "base_uri": "https://localhost:8080/",
          "height": 51
        }
      },
      "source": [
        "# 1003\n",
        "print('Hello')\n",
        "print('World')"
      ],
      "execution_count": 3,
      "outputs": [
        {
          "output_type": "stream",
          "text": [
            "Hello\n",
            "World\n"
          ],
          "name": "stdout"
        }
      ]
    },
    {
      "cell_type": "code",
      "metadata": {
        "id": "nhujRYFjoF6M",
        "outputId": "535d37fd-920e-4706-f09e-28fe90318ce4",
        "colab": {
          "base_uri": "https://localhost:8080/",
          "height": 34
        }
      },
      "source": [
        "# 1004\n",
        "print('\\'Hello\\'')"
      ],
      "execution_count": 4,
      "outputs": [
        {
          "output_type": "stream",
          "text": [
            "'Hello'\n"
          ],
          "name": "stdout"
        }
      ]
    },
    {
      "cell_type": "code",
      "metadata": {
        "id": "2XSg178yoIVq",
        "outputId": "203ff096-6388-4337-a909-419086a26fcd",
        "colab": {
          "base_uri": "https://localhost:8080/",
          "height": 34
        }
      },
      "source": [
        "print('\\\"Hello World\\\"')"
      ],
      "execution_count": 5,
      "outputs": [
        {
          "output_type": "stream",
          "text": [
            "\"Hello World\"\n"
          ],
          "name": "stdout"
        }
      ]
    },
    {
      "cell_type": "code",
      "metadata": {
        "id": "qI0abTMSoK5V",
        "outputId": "3e30e291-0bfd-4c68-96d8-6add56f7fb03",
        "colab": {
          "base_uri": "https://localhost:8080/",
          "height": 34
        }
      },
      "source": [
        "print('\"!@#$%^&*()\"')"
      ],
      "execution_count": 6,
      "outputs": [
        {
          "output_type": "stream",
          "text": [
            "\"!@#$%^&*()\"\n"
          ],
          "name": "stdout"
        }
      ]
    },
    {
      "cell_type": "code",
      "metadata": {
        "id": "vTbBWfWooQOL",
        "outputId": "88e90920-88fa-4c55-ab6b-3f52bf18281c",
        "colab": {
          "base_uri": "https://localhost:8080/",
          "height": 34
        }
      },
      "source": [
        "print('\"C:\\Download\\hello.cpp\"')"
      ],
      "execution_count": 7,
      "outputs": [
        {
          "output_type": "stream",
          "text": [
            "\"C:\\Download\\hello.cpp\"\n"
          ],
          "name": "stdout"
        }
      ]
    },
    {
      "cell_type": "code",
      "metadata": {
        "id": "dac9Ju3-oRtC",
        "outputId": "50578c53-5a41-4442-8aa4-ced8dd60987f",
        "colab": {
          "base_uri": "https://localhost:8080/",
          "height": 68
        }
      },
      "source": [
        "print('\\u250C\\u252C\\u2510')\n",
        "print('\\u251C\\u253C\\u2524')\n",
        "print('\\u2514\\u2534\\u2518')"
      ],
      "execution_count": 8,
      "outputs": [
        {
          "output_type": "stream",
          "text": [
            "┌┬┐\n",
            "├┼┤\n",
            "└┴┘\n"
          ],
          "name": "stdout"
        }
      ]
    },
    {
      "cell_type": "code",
      "metadata": {
        "id": "dDwGrA5WoTV2",
        "outputId": "f2e27e0d-e001-4770-e819-ce0492753b9c",
        "colab": {
          "base_uri": "https://localhost:8080/",
          "height": 51
        }
      },
      "source": [
        "# 1010\n",
        "a = int(input())\n",
        "print(a)"
      ],
      "execution_count": 9,
      "outputs": [
        {
          "output_type": "stream",
          "text": [
            "15\n",
            "15\n"
          ],
          "name": "stdout"
        }
      ]
    },
    {
      "cell_type": "code",
      "metadata": {
        "id": "mYnV5DRNoV6c",
        "outputId": "ea642709-87bb-4c27-919d-0793a44e228f",
        "colab": {
          "base_uri": "https://localhost:8080/",
          "height": 51
        }
      },
      "source": [
        "a = input()\n",
        "print(a)"
      ],
      "execution_count": 10,
      "outputs": [
        {
          "output_type": "stream",
          "text": [
            "p\n",
            "p\n"
          ],
          "name": "stdout"
        }
      ]
    },
    {
      "cell_type": "code",
      "metadata": {
        "id": "hMF9lhT_ocYw",
        "outputId": "14845223-711d-43c8-cf21-2192ede1f5db",
        "colab": {
          "base_uri": "https://localhost:8080/",
          "height": 51
        }
      },
      "source": [
        "a = float(input())\n",
        "print('%f' %a)"
      ],
      "execution_count": 11,
      "outputs": [
        {
          "output_type": "stream",
          "text": [
            "1.414213\n",
            "1.414213\n"
          ],
          "name": "stdout"
        }
      ]
    },
    {
      "cell_type": "code",
      "metadata": {
        "id": "m5Xz3tyVoh4j",
        "outputId": "a19cb807-c9ce-464f-cbe8-dab100ce9ada",
        "colab": {
          "base_uri": "https://localhost:8080/",
          "height": 51
        }
      },
      "source": [
        "a = input()\n",
        "b = a.split(' ')\n",
        "print(int(b[0]),int(b[1]))"
      ],
      "execution_count": 12,
      "outputs": [
        {
          "output_type": "stream",
          "text": [
            "1 2\n",
            "1 2\n"
          ],
          "name": "stdout"
        }
      ]
    },
    {
      "cell_type": "code",
      "metadata": {
        "id": "DlTgYwjOonER",
        "outputId": "e82f698a-f73e-4a5b-ec45-c4e924307ac3",
        "colab": {
          "base_uri": "https://localhost:8080/",
          "height": 51
        }
      },
      "source": [
        "a = input()\n",
        "b = a.split(' ')\n",
        "print(b[1],b[0])"
      ],
      "execution_count": 14,
      "outputs": [
        {
          "output_type": "stream",
          "text": [
            "A b\n",
            "b A\n"
          ],
          "name": "stdout"
        }
      ]
    },
    {
      "cell_type": "code",
      "metadata": {
        "id": "jTf7iNj-otO7",
        "outputId": "ee21c9b2-95d7-45d9-e014-4339ec1c4a33",
        "colab": {
          "base_uri": "https://localhost:8080/",
          "height": 51
        }
      },
      "source": [
        "a = float(input())\n",
        "print('%.2f' %a)"
      ],
      "execution_count": 15,
      "outputs": [
        {
          "output_type": "stream",
          "text": [
            "1.59254\n",
            "1.59\n"
          ],
          "name": "stdout"
        }
      ]
    },
    {
      "cell_type": "code",
      "metadata": {
        "id": "WRj8_yCSo2QD",
        "outputId": "f729a8fb-fd5f-430f-f145-9d6d293ffee6",
        "colab": {
          "base_uri": "https://localhost:8080/",
          "height": 51
        }
      },
      "source": [
        "a = int(input())\n",
        "print(a,a,a)"
      ],
      "execution_count": 16,
      "outputs": [
        {
          "output_type": "stream",
          "text": [
            "125\n",
            "125 125 125\n"
          ],
          "name": "stdout"
        }
      ]
    },
    {
      "cell_type": "code",
      "metadata": {
        "id": "F9M1WGhXo72r",
        "outputId": "ae21bac5-9fad-4bf2-e68d-a6cd372bdec4",
        "colab": {
          "base_uri": "https://localhost:8080/",
          "height": 51
        }
      },
      "source": [
        "a = input()\n",
        "print(a)"
      ],
      "execution_count": 17,
      "outputs": [
        {
          "output_type": "stream",
          "text": [
            "3:16\n",
            "3:16\n"
          ],
          "name": "stdout"
        }
      ]
    },
    {
      "cell_type": "code",
      "metadata": {
        "id": "srvfh1vZo_lN",
        "outputId": "2a5fe58c-8f53-4e8d-9c90-7ab00e924477",
        "colab": {
          "base_uri": "https://localhost:8080/",
          "height": 51
        }
      },
      "source": [
        "a, b, c = input().split('.')\n",
        "if len(a) < 4:\n",
        "\ta = '0'*(4-len(a)) + a\n",
        "if len(b) == 1:\n",
        "\tb = '0' + b\n",
        "if len(c) == 1:\n",
        "\tc = '0' + c\n",
        "print('{}.{}.{}'.format(a,b,c))"
      ],
      "execution_count": 18,
      "outputs": [
        {
          "output_type": "stream",
          "text": [
            "2013.8.5\n",
            "2013.08.05\n"
          ],
          "name": "stdout"
        }
      ]
    },
    {
      "cell_type": "code",
      "metadata": {
        "id": "4ZB3KAsFpEXa"
      },
      "source": [
        ""
      ],
      "execution_count": null,
      "outputs": []
    }
  ]
}