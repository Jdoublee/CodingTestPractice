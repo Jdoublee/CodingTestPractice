{
  "nbformat": 4,
  "nbformat_minor": 0,
  "metadata": {
    "colab": {
      "name": "codeup_기초100제.ipynb",
      "provenance": [],
      "collapsed_sections": [],
      "toc_visible": true
    },
    "kernelspec": {
      "name": "python3",
      "display_name": "Python 3"
    }
  },
  "cells": [
    {
      "cell_type": "markdown",
      "metadata": {
        "id": "sqOMPy9NnN8B"
      },
      "source": [
        "# CodeUp 기초 100제"
      ]
    },
    {
      "cell_type": "code",
      "metadata": {
        "id": "ZL6HPEuCm9iK",
        "outputId": "6f4e4ebc-b34e-49ff-9da4-72372f6cf629",
        "colab": {
          "base_uri": "https://localhost:8080/",
          "height": 34
        }
      },
      "source": [
        "# 1001\n",
        "print('Hello')"
      ],
      "execution_count": null,
      "outputs": [
        {
          "output_type": "stream",
          "text": [
            "Hello\n"
          ],
          "name": "stdout"
        }
      ]
    },
    {
      "cell_type": "code",
      "metadata": {
        "id": "U78dzStFnaLQ",
        "outputId": "1a38b750-0bbb-427f-99f8-8a9ebc80ddf1",
        "colab": {
          "base_uri": "https://localhost:8080/",
          "height": 34
        }
      },
      "source": [
        "# 1002\n",
        "print('Hello World')"
      ],
      "execution_count": null,
      "outputs": [
        {
          "output_type": "stream",
          "text": [
            "Hello World\n"
          ],
          "name": "stdout"
        }
      ]
    },
    {
      "cell_type": "code",
      "metadata": {
        "id": "nSJcKEK9oAs2",
        "outputId": "fc3866f3-f121-44ff-e2cd-36e014185b23",
        "colab": {
          "base_uri": "https://localhost:8080/",
          "height": 51
        }
      },
      "source": [
        "# 1003\n",
        "print('Hello')\n",
        "print('World')"
      ],
      "execution_count": null,
      "outputs": [
        {
          "output_type": "stream",
          "text": [
            "Hello\n",
            "World\n"
          ],
          "name": "stdout"
        }
      ]
    },
    {
      "cell_type": "code",
      "metadata": {
        "id": "nhujRYFjoF6M",
        "outputId": "535d37fd-920e-4706-f09e-28fe90318ce4",
        "colab": {
          "base_uri": "https://localhost:8080/",
          "height": 34
        }
      },
      "source": [
        "# 1004\n",
        "print('\\'Hello\\'')"
      ],
      "execution_count": null,
      "outputs": [
        {
          "output_type": "stream",
          "text": [
            "'Hello'\n"
          ],
          "name": "stdout"
        }
      ]
    },
    {
      "cell_type": "code",
      "metadata": {
        "id": "2XSg178yoIVq",
        "outputId": "203ff096-6388-4337-a909-419086a26fcd",
        "colab": {
          "base_uri": "https://localhost:8080/",
          "height": 34
        }
      },
      "source": [
        "print('\\\"Hello World\\\"')"
      ],
      "execution_count": null,
      "outputs": [
        {
          "output_type": "stream",
          "text": [
            "\"Hello World\"\n"
          ],
          "name": "stdout"
        }
      ]
    },
    {
      "cell_type": "code",
      "metadata": {
        "id": "qI0abTMSoK5V",
        "outputId": "3e30e291-0bfd-4c68-96d8-6add56f7fb03",
        "colab": {
          "base_uri": "https://localhost:8080/",
          "height": 34
        }
      },
      "source": [
        "print('\"!@#$%^&*()\"')"
      ],
      "execution_count": null,
      "outputs": [
        {
          "output_type": "stream",
          "text": [
            "\"!@#$%^&*()\"\n"
          ],
          "name": "stdout"
        }
      ]
    },
    {
      "cell_type": "code",
      "metadata": {
        "id": "vTbBWfWooQOL",
        "outputId": "88e90920-88fa-4c55-ab6b-3f52bf18281c",
        "colab": {
          "base_uri": "https://localhost:8080/",
          "height": 34
        }
      },
      "source": [
        "print('\"C:\\Download\\hello.cpp\"')"
      ],
      "execution_count": null,
      "outputs": [
        {
          "output_type": "stream",
          "text": [
            "\"C:\\Download\\hello.cpp\"\n"
          ],
          "name": "stdout"
        }
      ]
    },
    {
      "cell_type": "code",
      "metadata": {
        "id": "dac9Ju3-oRtC",
        "outputId": "50578c53-5a41-4442-8aa4-ced8dd60987f",
        "colab": {
          "base_uri": "https://localhost:8080/",
          "height": 68
        }
      },
      "source": [
        "print('\\u250C\\u252C\\u2510')\n",
        "print('\\u251C\\u253C\\u2524')\n",
        "print('\\u2514\\u2534\\u2518')"
      ],
      "execution_count": null,
      "outputs": [
        {
          "output_type": "stream",
          "text": [
            "┌┬┐\n",
            "├┼┤\n",
            "└┴┘\n"
          ],
          "name": "stdout"
        }
      ]
    },
    {
      "cell_type": "code",
      "metadata": {
        "id": "dDwGrA5WoTV2",
        "outputId": "f2e27e0d-e001-4770-e819-ce0492753b9c",
        "colab": {
          "base_uri": "https://localhost:8080/",
          "height": 51
        }
      },
      "source": [
        "# 1010\n",
        "a = int(input())\n",
        "print(a)"
      ],
      "execution_count": null,
      "outputs": [
        {
          "output_type": "stream",
          "text": [
            "15\n",
            "15\n"
          ],
          "name": "stdout"
        }
      ]
    },
    {
      "cell_type": "code",
      "metadata": {
        "id": "mYnV5DRNoV6c",
        "outputId": "ea642709-87bb-4c27-919d-0793a44e228f",
        "colab": {
          "base_uri": "https://localhost:8080/",
          "height": 51
        }
      },
      "source": [
        "a = input()\n",
        "print(a)"
      ],
      "execution_count": null,
      "outputs": [
        {
          "output_type": "stream",
          "text": [
            "p\n",
            "p\n"
          ],
          "name": "stdout"
        }
      ]
    },
    {
      "cell_type": "code",
      "metadata": {
        "id": "hMF9lhT_ocYw",
        "outputId": "14845223-711d-43c8-cf21-2192ede1f5db",
        "colab": {
          "base_uri": "https://localhost:8080/",
          "height": 51
        }
      },
      "source": [
        "a = float(input())\n",
        "print('%f' %a)"
      ],
      "execution_count": null,
      "outputs": [
        {
          "output_type": "stream",
          "text": [
            "1.414213\n",
            "1.414213\n"
          ],
          "name": "stdout"
        }
      ]
    },
    {
      "cell_type": "code",
      "metadata": {
        "id": "m5Xz3tyVoh4j",
        "outputId": "a19cb807-c9ce-464f-cbe8-dab100ce9ada",
        "colab": {
          "base_uri": "https://localhost:8080/",
          "height": 51
        }
      },
      "source": [
        "a = input()\n",
        "b = a.split(' ')\n",
        "print(int(b[0]),int(b[1]))"
      ],
      "execution_count": null,
      "outputs": [
        {
          "output_type": "stream",
          "text": [
            "1 2\n",
            "1 2\n"
          ],
          "name": "stdout"
        }
      ]
    },
    {
      "cell_type": "code",
      "metadata": {
        "id": "DlTgYwjOonER",
        "outputId": "e82f698a-f73e-4a5b-ec45-c4e924307ac3",
        "colab": {
          "base_uri": "https://localhost:8080/",
          "height": 51
        }
      },
      "source": [
        "a = input()\n",
        "b = a.split(' ')\n",
        "print(b[1],b[0])"
      ],
      "execution_count": null,
      "outputs": [
        {
          "output_type": "stream",
          "text": [
            "A b\n",
            "b A\n"
          ],
          "name": "stdout"
        }
      ]
    },
    {
      "cell_type": "code",
      "metadata": {
        "id": "jTf7iNj-otO7",
        "outputId": "ee21c9b2-95d7-45d9-e014-4339ec1c4a33",
        "colab": {
          "base_uri": "https://localhost:8080/",
          "height": 51
        }
      },
      "source": [
        "a = float(input())\n",
        "print('%.2f' %a)"
      ],
      "execution_count": null,
      "outputs": [
        {
          "output_type": "stream",
          "text": [
            "1.59254\n",
            "1.59\n"
          ],
          "name": "stdout"
        }
      ]
    },
    {
      "cell_type": "code",
      "metadata": {
        "id": "WRj8_yCSo2QD",
        "outputId": "f729a8fb-fd5f-430f-f145-9d6d293ffee6",
        "colab": {
          "base_uri": "https://localhost:8080/",
          "height": 51
        }
      },
      "source": [
        "a = int(input())\n",
        "print(a,a,a)"
      ],
      "execution_count": null,
      "outputs": [
        {
          "output_type": "stream",
          "text": [
            "125\n",
            "125 125 125\n"
          ],
          "name": "stdout"
        }
      ]
    },
    {
      "cell_type": "code",
      "metadata": {
        "id": "F9M1WGhXo72r",
        "outputId": "ae21bac5-9fad-4bf2-e68d-a6cd372bdec4",
        "colab": {
          "base_uri": "https://localhost:8080/",
          "height": 51
        }
      },
      "source": [
        "a = input()\n",
        "print(a)"
      ],
      "execution_count": null,
      "outputs": [
        {
          "output_type": "stream",
          "text": [
            "3:16\n",
            "3:16\n"
          ],
          "name": "stdout"
        }
      ]
    },
    {
      "cell_type": "code",
      "metadata": {
        "id": "srvfh1vZo_lN",
        "outputId": "2a5fe58c-8f53-4e8d-9c90-7ab00e924477",
        "colab": {
          "base_uri": "https://localhost:8080/",
          "height": 51
        }
      },
      "source": [
        "a, b, c = input().split('.')\n",
        "if len(a) < 4:\n",
        "\ta = '0'*(4-len(a)) + a\n",
        "if len(b) == 1:\n",
        "\tb = '0' + b\n",
        "if len(c) == 1:\n",
        "\tc = '0' + c\n",
        "print('{}.{}.{}'.format(a,b,c))"
      ],
      "execution_count": null,
      "outputs": [
        {
          "output_type": "stream",
          "text": [
            "2013.8.5\n",
            "2013.08.05\n"
          ],
          "name": "stdout"
        }
      ]
    },
    {
      "cell_type": "code",
      "metadata": {
        "id": "4ZB3KAsFpEXa",
        "outputId": "62ee4433-43cc-4204-b97e-5516a368e924",
        "colab": {
          "base_uri": "https://localhost:8080/"
        }
      },
      "source": [
        "# 1020\n",
        "a, b = input().split('-')\n",
        "print(a+b)"
      ],
      "execution_count": 3,
      "outputs": [
        {
          "output_type": "stream",
          "text": [
            "000907-1121112\n",
            "0009071121112\n"
          ],
          "name": "stdout"
        }
      ]
    },
    {
      "cell_type": "code",
      "metadata": {
        "id": "WS6LZjKQJ6ur",
        "outputId": "5304fe8b-6c32-44a5-93e9-2c0d026f1a11",
        "colab": {
          "base_uri": "https://localhost:8080/"
        }
      },
      "source": [
        "a = input()\n",
        "print(a)"
      ],
      "execution_count": 4,
      "outputs": [
        {
          "output_type": "stream",
          "text": [
            "000907-1121112\n",
            "000907-1121112\n"
          ],
          "name": "stdout"
        }
      ]
    },
    {
      "cell_type": "code",
      "metadata": {
        "id": "ZnJTwvPKKPab",
        "outputId": "e528d39f-ffca-4b9a-a091-452b4c8fbe91",
        "colab": {
          "base_uri": "https://localhost:8080/"
        }
      },
      "source": [
        "a = input()\n",
        "print(a)"
      ],
      "execution_count": 5,
      "outputs": [
        {
          "output_type": "stream",
          "text": [
            "Programming is very fun!!\n",
            "Programming is very fun!!\n"
          ],
          "name": "stdout"
        }
      ]
    },
    {
      "cell_type": "code",
      "metadata": {
        "id": "GgIotUL6KWmK",
        "outputId": "1d8868e8-72a2-44f4-c7a4-753d53fa08ef",
        "colab": {
          "base_uri": "https://localhost:8080/"
        }
      },
      "source": [
        "a,b = input().split('.')\n",
        "print(a)\n",
        "print(b)"
      ],
      "execution_count": 6,
      "outputs": [
        {
          "output_type": "stream",
          "text": [
            "1.414213\n",
            "1\n",
            "414213\n"
          ],
          "name": "stdout"
        }
      ]
    },
    {
      "cell_type": "code",
      "metadata": {
        "id": "M5rXUUPJK0YD",
        "outputId": "7282ec45-645e-4f35-8bb3-973ce6474df0",
        "colab": {
          "base_uri": "https://localhost:8080/"
        }
      },
      "source": [
        "a = input()\n",
        "for i in a:\n",
        "\tprint(\"'{}'\".format(i))"
      ],
      "execution_count": 10,
      "outputs": [
        {
          "output_type": "stream",
          "text": [
            "Boy\n",
            "'B'\n",
            "'o'\n",
            "'y'\n"
          ],
          "name": "stdout"
        }
      ]
    },
    {
      "cell_type": "code",
      "metadata": {
        "id": "xXNAADpCKbMt",
        "outputId": "23344d9a-7388-43d2-bda5-179125cfd1b8",
        "colab": {
          "base_uri": "https://localhost:8080/"
        }
      },
      "source": [
        "# 1025\n",
        "a = input()\n",
        "\n",
        "for i,n in enumerate(a):\n",
        "\tprint('[{}{}]'.format(n,'0'*(4-i)))"
      ],
      "execution_count": 11,
      "outputs": [
        {
          "output_type": "stream",
          "text": [
            "75254\n",
            "[70000]\n",
            "[5000]\n",
            "[200]\n",
            "[50]\n",
            "[4]\n"
          ],
          "name": "stdout"
        }
      ]
    },
    {
      "cell_type": "code",
      "metadata": {
        "id": "6zusTI81Kjeu",
        "outputId": "3e756e06-e14b-4c78-8af9-dfa7fd3fc666",
        "colab": {
          "base_uri": "https://localhost:8080/"
        }
      },
      "source": [
        "a = input().split(':')\n",
        "\n",
        "if a[1][0] == '0':\n",
        "\tprint(a[1][1])\n",
        "else:\n",
        "\tprint(a[1])\n"
      ],
      "execution_count": 12,
      "outputs": [
        {
          "output_type": "stream",
          "text": [
            "17:23:57\n",
            "23\n"
          ],
          "name": "stdout"
        }
      ]
    },
    {
      "cell_type": "code",
      "metadata": {
        "id": "GqV6AJ0DKxQ1",
        "outputId": "d71e2619-a89f-497f-89db-964098c57bac",
        "colab": {
          "base_uri": "https://localhost:8080/"
        }
      },
      "source": [
        "a,b,c = input().split('.')\n",
        "\n",
        "if len(a) < 4:\n",
        "\ta = '0'*(4-len(a)) + a\n",
        "if len(b) < 2:\n",
        "\tb = '0' + b\n",
        "if len(c) < 2:\n",
        "\tc = '0' + c\n",
        "\n",
        "print('{}-{}-{}'.format(c,b,a))\n"
      ],
      "execution_count": 13,
      "outputs": [
        {
          "output_type": "stream",
          "text": [
            "2014.07.15\n",
            "15-07-2014\n"
          ],
          "name": "stdout"
        }
      ]
    },
    {
      "cell_type": "code",
      "metadata": {
        "id": "EakESejwLC29",
        "outputId": "2ce7b8b8-17f9-45e2-a294-8580793e826c",
        "colab": {
          "base_uri": "https://localhost:8080/"
        }
      },
      "source": [
        "a = input()\n",
        "print(a)"
      ],
      "execution_count": 14,
      "outputs": [
        {
          "output_type": "stream",
          "text": [
            "2147483648\n",
            "2147483648\n"
          ],
          "name": "stdout"
        }
      ]
    },
    {
      "cell_type": "code",
      "metadata": {
        "id": "e7GyrffbLR8h",
        "outputId": "960902d8-c3ee-4513-bfbe-b5e780dff5a2",
        "colab": {
          "base_uri": "https://localhost:8080/"
        }
      },
      "source": [
        "a = float(input())\n",
        "print('%.11f'%a)"
      ],
      "execution_count": 15,
      "outputs": [
        {
          "output_type": "stream",
          "text": [
            "3.14159265359\n",
            "3.14159265359\n"
          ],
          "name": "stdout"
        }
      ]
    },
    {
      "cell_type": "code",
      "metadata": {
        "id": "4Tw3ADDKLZOo",
        "outputId": "0263ad52-cac6-4df8-951d-96eb848660e7",
        "colab": {
          "base_uri": "https://localhost:8080/"
        }
      },
      "source": [
        "# 1030\n",
        "a = input()\n",
        "print(a)"
      ],
      "execution_count": 16,
      "outputs": [
        {
          "output_type": "stream",
          "text": [
            "-2147483649\n",
            "-2147483649\n"
          ],
          "name": "stdout"
        }
      ]
    },
    {
      "cell_type": "code",
      "metadata": {
        "id": "EUqztz97LqbX",
        "outputId": "b86e016c-9692-461e-ad91-577f35768a37",
        "colab": {
          "base_uri": "https://localhost:8080/"
        }
      },
      "source": [
        "# 1031 10진수 -> 8진수\n",
        "a = int(input())\n",
        "print('%o'%a)"
      ],
      "execution_count": 17,
      "outputs": [
        {
          "output_type": "stream",
          "text": [
            "10\n",
            "12\n"
          ],
          "name": "stdout"
        }
      ]
    },
    {
      "cell_type": "code",
      "metadata": {
        "id": "4qz8XHpKLuOQ",
        "outputId": "d1863c6c-2b40-4b97-d9e9-48f8d0685995",
        "colab": {
          "base_uri": "https://localhost:8080/"
        }
      },
      "source": [
        "# 16진수\n",
        "a = int(input())\n",
        "print('%x'%a)"
      ],
      "execution_count": 18,
      "outputs": [
        {
          "output_type": "stream",
          "text": [
            "255\n",
            "ff\n"
          ],
          "name": "stdout"
        }
      ]
    },
    {
      "cell_type": "code",
      "metadata": {
        "id": "LNhdDNtUL2XF",
        "outputId": "faceb12b-10d2-4312-f520-bc7fbb18c11f",
        "colab": {
          "base_uri": "https://localhost:8080/"
        }
      },
      "source": [
        "# 16진수 (대문자)\n",
        "a = int(input())\n",
        "print('%X'%a)"
      ],
      "execution_count": 19,
      "outputs": [
        {
          "output_type": "stream",
          "text": [
            "255\n",
            "FF\n"
          ],
          "name": "stdout"
        }
      ]
    },
    {
      "cell_type": "code",
      "metadata": {
        "id": "fYaGED4GL7iX",
        "outputId": "45aee712-6e16-46eb-f6a4-9ab26031395c",
        "colab": {
          "base_uri": "https://localhost:8080/"
        }
      },
      "source": [
        "a = input() # 8진수\n",
        "b = 0\n",
        "\n",
        "for i, n in enumerate(a):\n",
        "\tb += int(n) * 8 ** (len(a)-(i+1))\n",
        "print(b)"
      ],
      "execution_count": 20,
      "outputs": [
        {
          "output_type": "stream",
          "text": [
            "13\n",
            "11\n"
          ],
          "name": "stdout"
        }
      ]
    },
    {
      "cell_type": "code",
      "metadata": {
        "id": "FiR1MtmrMGnH",
        "outputId": "3ec6328f-aee8-459f-f7a4-1f8aaaebf63d",
        "colab": {
          "base_uri": "https://localhost:8080/"
        }
      },
      "source": [
        "a = input() # 16진수\n",
        "b = 0\n",
        "li = {'a':10, 'b':11, 'c':12, 'd':13, 'e':14, 'f':15}\n",
        "for i, n in enumerate(a):\n",
        "\tif n in li.keys():\n",
        "\t\tn = li[n]\n",
        "\tb += int(n) * 16 ** (len(a)-(i+1))\n",
        "\n",
        "print('%o'%b)"
      ],
      "execution_count": 21,
      "outputs": [
        {
          "output_type": "stream",
          "text": [
            "f\n",
            "17\n"
          ],
          "name": "stdout"
        }
      ]
    },
    {
      "cell_type": "code",
      "metadata": {
        "id": "xOJ2wtqdMMIt",
        "outputId": "4389d6ed-230e-44b3-9b41-9fec3b4ea2f4",
        "colab": {
          "base_uri": "https://localhost:8080/"
        }
      },
      "source": [
        "# ASCII\n",
        "a = input()\n",
        "print(ord(a))"
      ],
      "execution_count": 22,
      "outputs": [
        {
          "output_type": "stream",
          "text": [
            "A\n",
            "65\n"
          ],
          "name": "stdout"
        }
      ]
    },
    {
      "cell_type": "code",
      "metadata": {
        "id": "VgZRmgw5MSpV",
        "outputId": "4e48d522-c18a-4c30-cd8d-51e5065dc289",
        "colab": {
          "base_uri": "https://localhost:8080/"
        }
      },
      "source": [
        "a = int(input())\n",
        "print(chr(a))"
      ],
      "execution_count": 23,
      "outputs": [
        {
          "output_type": "stream",
          "text": [
            "65\n",
            "A\n"
          ],
          "name": "stdout"
        }
      ]
    },
    {
      "cell_type": "code",
      "metadata": {
        "id": "_2rfjTVwMe71",
        "outputId": "d6ceec08-2127-4e07-acff-2cf153b6facd",
        "colab": {
          "base_uri": "https://localhost:8080/"
        }
      },
      "source": [
        "a,b=input().split(' ')\n",
        "a = int(a)\n",
        "b = int(b)\n",
        "print(a+b)"
      ],
      "execution_count": 24,
      "outputs": [
        {
          "output_type": "stream",
          "text": [
            "2147483648 2147483648\n",
            "4294967296\n"
          ],
          "name": "stdout"
        }
      ]
    },
    {
      "cell_type": "code",
      "metadata": {
        "id": "yYO9ipVeMjMw",
        "outputId": "aaa93838-c1e9-4623-9b61-e84b980aa90a",
        "colab": {
          "base_uri": "https://localhost:8080/"
        }
      },
      "source": [
        "# 1040\n",
        "a = int(input())\n",
        "print(-1*a)"
      ],
      "execution_count": 25,
      "outputs": [
        {
          "output_type": "stream",
          "text": [
            "-1\n",
            "1\n"
          ],
          "name": "stdout"
        }
      ]
    },
    {
      "cell_type": "code",
      "metadata": {
        "id": "LBbJzb6kMsm8",
        "outputId": "b85a63c0-b666-4c6a-c484-e1c16ee41a80",
        "colab": {
          "base_uri": "https://localhost:8080/"
        }
      },
      "source": [
        "a = input()\n",
        "b = ord(a)\n",
        "print(chr(b+1))"
      ],
      "execution_count": 26,
      "outputs": [
        {
          "output_type": "stream",
          "text": [
            "a\n",
            "b\n"
          ],
          "name": "stdout"
        }
      ]
    },
    {
      "cell_type": "code",
      "metadata": {
        "id": "BMVW-P43MxwS",
        "outputId": "ecaebe22-c71c-4218-f2d3-574ad63062e6",
        "colab": {
          "base_uri": "https://localhost:8080/"
        }
      },
      "source": [
        "a, b = input().split(' ')\n",
        "c = int(a) // int(b)\n",
        "print(c)"
      ],
      "execution_count": 27,
      "outputs": [
        {
          "output_type": "stream",
          "text": [
            "1 3\n",
            "0\n"
          ],
          "name": "stdout"
        }
      ]
    },
    {
      "cell_type": "code",
      "metadata": {
        "id": "c2Ma6fJQM2XX",
        "outputId": "fd9a3e3e-a666-4024-9189-1592ca0a14cc",
        "colab": {
          "base_uri": "https://localhost:8080/"
        }
      },
      "source": [
        "a, b = input().split(' ')\n",
        "c = int(a) % int(b)\n",
        "print(c)"
      ],
      "execution_count": 28,
      "outputs": [
        {
          "output_type": "stream",
          "text": [
            "10 3\n",
            "1\n"
          ],
          "name": "stdout"
        }
      ]
    },
    {
      "cell_type": "code",
      "metadata": {
        "id": "TyT0PDxUM9a7",
        "outputId": "e436d841-6483-4948-80ec-30378c2b51ba",
        "colab": {
          "base_uri": "https://localhost:8080/"
        }
      },
      "source": [
        "a = int(input())\n",
        "print(a+1)"
      ],
      "execution_count": 29,
      "outputs": [
        {
          "output_type": "stream",
          "text": [
            "2147483647\n",
            "2147483648\n"
          ],
          "name": "stdout"
        }
      ]
    },
    {
      "cell_type": "code",
      "metadata": {
        "id": "vbj6SKyxNDz0",
        "outputId": "ac2bf21c-3e67-4656-ad58-78620c743ed4",
        "colab": {
          "base_uri": "https://localhost:8080/"
        }
      },
      "source": [
        "a, b = input().split(' ')\n",
        "a = int(a)\n",
        "b = int(b)\n",
        "\n",
        "print(a+b)\n",
        "print(a-b)\n",
        "print(a*b)\n",
        "print(a//b)\n",
        "print(a%b)\n",
        "print('%.2f'%(a/b))"
      ],
      "execution_count": 30,
      "outputs": [
        {
          "output_type": "stream",
          "text": [
            "10 3\n",
            "13\n",
            "7\n",
            "30\n",
            "3\n",
            "1\n",
            "3.33\n"
          ],
          "name": "stdout"
        }
      ]
    },
    {
      "cell_type": "code",
      "metadata": {
        "id": "iRD8C1tWNISE",
        "outputId": "3e02ca2c-5001-44a6-950d-4ccce595b595",
        "colab": {
          "base_uri": "https://localhost:8080/"
        }
      },
      "source": [
        "a,b,c = input().split(' ')\n",
        "a = int(a)\n",
        "b = int(b)\n",
        "c = int(c)\n",
        "tot = a+b+c\n",
        "print(tot)\n",
        "print('%.1f' %(tot/3))"
      ],
      "execution_count": 31,
      "outputs": [
        {
          "output_type": "stream",
          "text": [
            "1 2 3\n",
            "6\n",
            "2.0\n"
          ],
          "name": "stdout"
        }
      ]
    },
    {
      "cell_type": "code",
      "metadata": {
        "id": "cwDBQfCsNbI1"
      },
      "source": [
        "# 1047\n"
      ],
      "execution_count": null,
      "outputs": []
    }
  ]
}