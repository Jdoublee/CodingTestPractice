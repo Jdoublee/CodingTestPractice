{
  "nbformat": 4,
  "nbformat_minor": 0,
  "metadata": {
    "colab": {
      "name": "codeup_기초100제.ipynb",
      "provenance": [],
      "collapsed_sections": []
    },
    "kernelspec": {
      "name": "python3",
      "display_name": "Python 3"
    }
  },
  "cells": [
    {
      "cell_type": "markdown",
      "metadata": {
        "id": "sqOMPy9NnN8B"
      },
      "source": [
        "# CodeUp 기초 100제"
      ]
    },
    {
      "cell_type": "code",
      "metadata": {
        "id": "ZL6HPEuCm9iK",
        "outputId": "6f4e4ebc-b34e-49ff-9da4-72372f6cf629",
        "colab": {
          "base_uri": "https://localhost:8080/",
          "height": 34
        }
      },
      "source": [
        "# 1001\n",
        "print('Hello')"
      ],
      "execution_count": null,
      "outputs": [
        {
          "output_type": "stream",
          "text": [
            "Hello\n"
          ],
          "name": "stdout"
        }
      ]
    },
    {
      "cell_type": "code",
      "metadata": {
        "id": "U78dzStFnaLQ",
        "outputId": "1a38b750-0bbb-427f-99f8-8a9ebc80ddf1",
        "colab": {
          "base_uri": "https://localhost:8080/",
          "height": 34
        }
      },
      "source": [
        "# 1002\n",
        "print('Hello World')"
      ],
      "execution_count": null,
      "outputs": [
        {
          "output_type": "stream",
          "text": [
            "Hello World\n"
          ],
          "name": "stdout"
        }
      ]
    },
    {
      "cell_type": "code",
      "metadata": {
        "id": "nSJcKEK9oAs2",
        "outputId": "fc3866f3-f121-44ff-e2cd-36e014185b23",
        "colab": {
          "base_uri": "https://localhost:8080/",
          "height": 51
        }
      },
      "source": [
        "# 1003\n",
        "print('Hello')\n",
        "print('World')"
      ],
      "execution_count": null,
      "outputs": [
        {
          "output_type": "stream",
          "text": [
            "Hello\n",
            "World\n"
          ],
          "name": "stdout"
        }
      ]
    },
    {
      "cell_type": "code",
      "metadata": {
        "id": "nhujRYFjoF6M",
        "outputId": "535d37fd-920e-4706-f09e-28fe90318ce4",
        "colab": {
          "base_uri": "https://localhost:8080/",
          "height": 34
        }
      },
      "source": [
        "# 1004\n",
        "print('\\'Hello\\'')"
      ],
      "execution_count": null,
      "outputs": [
        {
          "output_type": "stream",
          "text": [
            "'Hello'\n"
          ],
          "name": "stdout"
        }
      ]
    },
    {
      "cell_type": "code",
      "metadata": {
        "id": "2XSg178yoIVq",
        "outputId": "203ff096-6388-4337-a909-419086a26fcd",
        "colab": {
          "base_uri": "https://localhost:8080/",
          "height": 34
        }
      },
      "source": [
        "print('\\\"Hello World\\\"')"
      ],
      "execution_count": null,
      "outputs": [
        {
          "output_type": "stream",
          "text": [
            "\"Hello World\"\n"
          ],
          "name": "stdout"
        }
      ]
    },
    {
      "cell_type": "code",
      "metadata": {
        "id": "qI0abTMSoK5V",
        "outputId": "3e30e291-0bfd-4c68-96d8-6add56f7fb03",
        "colab": {
          "base_uri": "https://localhost:8080/",
          "height": 34
        }
      },
      "source": [
        "print('\"!@#$%^&*()\"')"
      ],
      "execution_count": null,
      "outputs": [
        {
          "output_type": "stream",
          "text": [
            "\"!@#$%^&*()\"\n"
          ],
          "name": "stdout"
        }
      ]
    },
    {
      "cell_type": "code",
      "metadata": {
        "id": "vTbBWfWooQOL",
        "outputId": "88e90920-88fa-4c55-ab6b-3f52bf18281c",
        "colab": {
          "base_uri": "https://localhost:8080/",
          "height": 34
        }
      },
      "source": [
        "print('\"C:\\Download\\hello.cpp\"')"
      ],
      "execution_count": null,
      "outputs": [
        {
          "output_type": "stream",
          "text": [
            "\"C:\\Download\\hello.cpp\"\n"
          ],
          "name": "stdout"
        }
      ]
    },
    {
      "cell_type": "code",
      "metadata": {
        "id": "dac9Ju3-oRtC",
        "outputId": "50578c53-5a41-4442-8aa4-ced8dd60987f",
        "colab": {
          "base_uri": "https://localhost:8080/",
          "height": 68
        }
      },
      "source": [
        "print('\\u250C\\u252C\\u2510')\n",
        "print('\\u251C\\u253C\\u2524')\n",
        "print('\\u2514\\u2534\\u2518')"
      ],
      "execution_count": null,
      "outputs": [
        {
          "output_type": "stream",
          "text": [
            "┌┬┐\n",
            "├┼┤\n",
            "└┴┘\n"
          ],
          "name": "stdout"
        }
      ]
    },
    {
      "cell_type": "code",
      "metadata": {
        "id": "dDwGrA5WoTV2",
        "outputId": "f2e27e0d-e001-4770-e819-ce0492753b9c",
        "colab": {
          "base_uri": "https://localhost:8080/",
          "height": 51
        }
      },
      "source": [
        "# 1010\n",
        "a = int(input())\n",
        "print(a)"
      ],
      "execution_count": null,
      "outputs": [
        {
          "output_type": "stream",
          "text": [
            "15\n",
            "15\n"
          ],
          "name": "stdout"
        }
      ]
    },
    {
      "cell_type": "code",
      "metadata": {
        "id": "mYnV5DRNoV6c",
        "outputId": "ea642709-87bb-4c27-919d-0793a44e228f",
        "colab": {
          "base_uri": "https://localhost:8080/",
          "height": 51
        }
      },
      "source": [
        "a = input()\n",
        "print(a)"
      ],
      "execution_count": null,
      "outputs": [
        {
          "output_type": "stream",
          "text": [
            "p\n",
            "p\n"
          ],
          "name": "stdout"
        }
      ]
    },
    {
      "cell_type": "code",
      "metadata": {
        "id": "hMF9lhT_ocYw",
        "outputId": "14845223-711d-43c8-cf21-2192ede1f5db",
        "colab": {
          "base_uri": "https://localhost:8080/",
          "height": 51
        }
      },
      "source": [
        "a = float(input())\n",
        "print('%f' %a)"
      ],
      "execution_count": null,
      "outputs": [
        {
          "output_type": "stream",
          "text": [
            "1.414213\n",
            "1.414213\n"
          ],
          "name": "stdout"
        }
      ]
    },
    {
      "cell_type": "code",
      "metadata": {
        "id": "m5Xz3tyVoh4j",
        "outputId": "a19cb807-c9ce-464f-cbe8-dab100ce9ada",
        "colab": {
          "base_uri": "https://localhost:8080/",
          "height": 51
        }
      },
      "source": [
        "a = input()\n",
        "b = a.split(' ')\n",
        "print(int(b[0]),int(b[1]))"
      ],
      "execution_count": null,
      "outputs": [
        {
          "output_type": "stream",
          "text": [
            "1 2\n",
            "1 2\n"
          ],
          "name": "stdout"
        }
      ]
    },
    {
      "cell_type": "code",
      "metadata": {
        "id": "DlTgYwjOonER",
        "outputId": "e82f698a-f73e-4a5b-ec45-c4e924307ac3",
        "colab": {
          "base_uri": "https://localhost:8080/",
          "height": 51
        }
      },
      "source": [
        "a = input()\n",
        "b = a.split(' ')\n",
        "print(b[1],b[0])"
      ],
      "execution_count": null,
      "outputs": [
        {
          "output_type": "stream",
          "text": [
            "A b\n",
            "b A\n"
          ],
          "name": "stdout"
        }
      ]
    },
    {
      "cell_type": "code",
      "metadata": {
        "id": "jTf7iNj-otO7",
        "outputId": "ee21c9b2-95d7-45d9-e014-4339ec1c4a33",
        "colab": {
          "base_uri": "https://localhost:8080/",
          "height": 51
        }
      },
      "source": [
        "a = float(input())\n",
        "print('%.2f' %a)"
      ],
      "execution_count": null,
      "outputs": [
        {
          "output_type": "stream",
          "text": [
            "1.59254\n",
            "1.59\n"
          ],
          "name": "stdout"
        }
      ]
    },
    {
      "cell_type": "code",
      "metadata": {
        "id": "WRj8_yCSo2QD",
        "outputId": "f729a8fb-fd5f-430f-f145-9d6d293ffee6",
        "colab": {
          "base_uri": "https://localhost:8080/",
          "height": 51
        }
      },
      "source": [
        "a = int(input())\n",
        "print(a,a,a)"
      ],
      "execution_count": null,
      "outputs": [
        {
          "output_type": "stream",
          "text": [
            "125\n",
            "125 125 125\n"
          ],
          "name": "stdout"
        }
      ]
    },
    {
      "cell_type": "code",
      "metadata": {
        "id": "F9M1WGhXo72r",
        "outputId": "ae21bac5-9fad-4bf2-e68d-a6cd372bdec4",
        "colab": {
          "base_uri": "https://localhost:8080/",
          "height": 51
        }
      },
      "source": [
        "a = input()\n",
        "print(a)"
      ],
      "execution_count": null,
      "outputs": [
        {
          "output_type": "stream",
          "text": [
            "3:16\n",
            "3:16\n"
          ],
          "name": "stdout"
        }
      ]
    },
    {
      "cell_type": "code",
      "metadata": {
        "id": "srvfh1vZo_lN",
        "outputId": "2a5fe58c-8f53-4e8d-9c90-7ab00e924477",
        "colab": {
          "base_uri": "https://localhost:8080/",
          "height": 51
        }
      },
      "source": [
        "a, b, c = input().split('.')\n",
        "if len(a) < 4:\n",
        "\ta = '0'*(4-len(a)) + a\n",
        "if len(b) == 1:\n",
        "\tb = '0' + b\n",
        "if len(c) == 1:\n",
        "\tc = '0' + c\n",
        "print('{}.{}.{}'.format(a,b,c))"
      ],
      "execution_count": null,
      "outputs": [
        {
          "output_type": "stream",
          "text": [
            "2013.8.5\n",
            "2013.08.05\n"
          ],
          "name": "stdout"
        }
      ]
    },
    {
      "cell_type": "code",
      "metadata": {
        "id": "4ZB3KAsFpEXa",
        "outputId": "62ee4433-43cc-4204-b97e-5516a368e924",
        "colab": {
          "base_uri": "https://localhost:8080/"
        }
      },
      "source": [
        "# 1020\n",
        "a, b = input().split('-')\n",
        "print(a+b)"
      ],
      "execution_count": null,
      "outputs": [
        {
          "output_type": "stream",
          "text": [
            "000907-1121112\n",
            "0009071121112\n"
          ],
          "name": "stdout"
        }
      ]
    },
    {
      "cell_type": "code",
      "metadata": {
        "id": "WS6LZjKQJ6ur",
        "outputId": "5304fe8b-6c32-44a5-93e9-2c0d026f1a11",
        "colab": {
          "base_uri": "https://localhost:8080/"
        }
      },
      "source": [
        "a = input()\n",
        "print(a)"
      ],
      "execution_count": null,
      "outputs": [
        {
          "output_type": "stream",
          "text": [
            "000907-1121112\n",
            "000907-1121112\n"
          ],
          "name": "stdout"
        }
      ]
    },
    {
      "cell_type": "code",
      "metadata": {
        "id": "ZnJTwvPKKPab",
        "outputId": "e528d39f-ffca-4b9a-a091-452b4c8fbe91",
        "colab": {
          "base_uri": "https://localhost:8080/"
        }
      },
      "source": [
        "a = input()\n",
        "print(a)"
      ],
      "execution_count": null,
      "outputs": [
        {
          "output_type": "stream",
          "text": [
            "Programming is very fun!!\n",
            "Programming is very fun!!\n"
          ],
          "name": "stdout"
        }
      ]
    },
    {
      "cell_type": "code",
      "metadata": {
        "id": "GgIotUL6KWmK",
        "outputId": "1d8868e8-72a2-44f4-c7a4-753d53fa08ef",
        "colab": {
          "base_uri": "https://localhost:8080/"
        }
      },
      "source": [
        "a,b = input().split('.')\n",
        "print(a)\n",
        "print(b)"
      ],
      "execution_count": null,
      "outputs": [
        {
          "output_type": "stream",
          "text": [
            "1.414213\n",
            "1\n",
            "414213\n"
          ],
          "name": "stdout"
        }
      ]
    },
    {
      "cell_type": "code",
      "metadata": {
        "id": "M5rXUUPJK0YD",
        "outputId": "7282ec45-645e-4f35-8bb3-973ce6474df0",
        "colab": {
          "base_uri": "https://localhost:8080/"
        }
      },
      "source": [
        "a = input()\n",
        "for i in a:\n",
        "\tprint(\"'{}'\".format(i))"
      ],
      "execution_count": null,
      "outputs": [
        {
          "output_type": "stream",
          "text": [
            "Boy\n",
            "'B'\n",
            "'o'\n",
            "'y'\n"
          ],
          "name": "stdout"
        }
      ]
    },
    {
      "cell_type": "code",
      "metadata": {
        "id": "xXNAADpCKbMt",
        "outputId": "23344d9a-7388-43d2-bda5-179125cfd1b8",
        "colab": {
          "base_uri": "https://localhost:8080/"
        }
      },
      "source": [
        "# 1025\n",
        "a = input()\n",
        "\n",
        "for i,n in enumerate(a):\n",
        "\tprint('[{}{}]'.format(n,'0'*(4-i)))"
      ],
      "execution_count": null,
      "outputs": [
        {
          "output_type": "stream",
          "text": [
            "75254\n",
            "[70000]\n",
            "[5000]\n",
            "[200]\n",
            "[50]\n",
            "[4]\n"
          ],
          "name": "stdout"
        }
      ]
    },
    {
      "cell_type": "code",
      "metadata": {
        "id": "6zusTI81Kjeu",
        "outputId": "3e756e06-e14b-4c78-8af9-dfa7fd3fc666",
        "colab": {
          "base_uri": "https://localhost:8080/"
        }
      },
      "source": [
        "a = input().split(':')\n",
        "\n",
        "if a[1][0] == '0':\n",
        "\tprint(a[1][1])\n",
        "else:\n",
        "\tprint(a[1])\n"
      ],
      "execution_count": null,
      "outputs": [
        {
          "output_type": "stream",
          "text": [
            "17:23:57\n",
            "23\n"
          ],
          "name": "stdout"
        }
      ]
    },
    {
      "cell_type": "code",
      "metadata": {
        "id": "GqV6AJ0DKxQ1",
        "outputId": "d71e2619-a89f-497f-89db-964098c57bac",
        "colab": {
          "base_uri": "https://localhost:8080/"
        }
      },
      "source": [
        "a,b,c = input().split('.')\n",
        "\n",
        "if len(a) < 4:\n",
        "\ta = '0'*(4-len(a)) + a\n",
        "if len(b) < 2:\n",
        "\tb = '0' + b\n",
        "if len(c) < 2:\n",
        "\tc = '0' + c\n",
        "\n",
        "print('{}-{}-{}'.format(c,b,a))\n"
      ],
      "execution_count": null,
      "outputs": [
        {
          "output_type": "stream",
          "text": [
            "2014.07.15\n",
            "15-07-2014\n"
          ],
          "name": "stdout"
        }
      ]
    },
    {
      "cell_type": "code",
      "metadata": {
        "id": "EakESejwLC29",
        "outputId": "2ce7b8b8-17f9-45e2-a294-8580793e826c",
        "colab": {
          "base_uri": "https://localhost:8080/"
        }
      },
      "source": [
        "a = input()\n",
        "print(a)"
      ],
      "execution_count": null,
      "outputs": [
        {
          "output_type": "stream",
          "text": [
            "2147483648\n",
            "2147483648\n"
          ],
          "name": "stdout"
        }
      ]
    },
    {
      "cell_type": "code",
      "metadata": {
        "id": "e7GyrffbLR8h",
        "outputId": "960902d8-c3ee-4513-bfbe-b5e780dff5a2",
        "colab": {
          "base_uri": "https://localhost:8080/"
        }
      },
      "source": [
        "a = float(input())\n",
        "print('%.11f'%a)"
      ],
      "execution_count": null,
      "outputs": [
        {
          "output_type": "stream",
          "text": [
            "3.14159265359\n",
            "3.14159265359\n"
          ],
          "name": "stdout"
        }
      ]
    },
    {
      "cell_type": "code",
      "metadata": {
        "id": "4Tw3ADDKLZOo",
        "outputId": "0263ad52-cac6-4df8-951d-96eb848660e7",
        "colab": {
          "base_uri": "https://localhost:8080/"
        }
      },
      "source": [
        "# 1030\n",
        "a = input()\n",
        "print(a)"
      ],
      "execution_count": null,
      "outputs": [
        {
          "output_type": "stream",
          "text": [
            "-2147483649\n",
            "-2147483649\n"
          ],
          "name": "stdout"
        }
      ]
    },
    {
      "cell_type": "code",
      "metadata": {
        "id": "EUqztz97LqbX",
        "outputId": "b86e016c-9692-461e-ad91-577f35768a37",
        "colab": {
          "base_uri": "https://localhost:8080/"
        }
      },
      "source": [
        "# 1031 10진수 -> 8진수\n",
        "a = int(input())\n",
        "print('%o'%a)"
      ],
      "execution_count": null,
      "outputs": [
        {
          "output_type": "stream",
          "text": [
            "10\n",
            "12\n"
          ],
          "name": "stdout"
        }
      ]
    },
    {
      "cell_type": "code",
      "metadata": {
        "id": "4qz8XHpKLuOQ",
        "outputId": "d1863c6c-2b40-4b97-d9e9-48f8d0685995",
        "colab": {
          "base_uri": "https://localhost:8080/"
        }
      },
      "source": [
        "# 16진수\n",
        "a = int(input())\n",
        "print('%x'%a)"
      ],
      "execution_count": null,
      "outputs": [
        {
          "output_type": "stream",
          "text": [
            "255\n",
            "ff\n"
          ],
          "name": "stdout"
        }
      ]
    },
    {
      "cell_type": "code",
      "metadata": {
        "id": "LNhdDNtUL2XF",
        "outputId": "faceb12b-10d2-4312-f520-bc7fbb18c11f",
        "colab": {
          "base_uri": "https://localhost:8080/"
        }
      },
      "source": [
        "# 16진수 (대문자)\n",
        "a = int(input())\n",
        "print('%X'%a)"
      ],
      "execution_count": null,
      "outputs": [
        {
          "output_type": "stream",
          "text": [
            "255\n",
            "FF\n"
          ],
          "name": "stdout"
        }
      ]
    },
    {
      "cell_type": "code",
      "metadata": {
        "id": "fYaGED4GL7iX",
        "outputId": "45aee712-6e16-46eb-f6a4-9ab26031395c",
        "colab": {
          "base_uri": "https://localhost:8080/"
        }
      },
      "source": [
        "a = input() # 8진수\n",
        "b = 0\n",
        "\n",
        "for i, n in enumerate(a):\n",
        "\tb += int(n) * 8 ** (len(a)-(i+1))\n",
        "print(b)"
      ],
      "execution_count": null,
      "outputs": [
        {
          "output_type": "stream",
          "text": [
            "13\n",
            "11\n"
          ],
          "name": "stdout"
        }
      ]
    },
    {
      "cell_type": "code",
      "metadata": {
        "id": "FiR1MtmrMGnH",
        "outputId": "3ec6328f-aee8-459f-f7a4-1f8aaaebf63d",
        "colab": {
          "base_uri": "https://localhost:8080/"
        }
      },
      "source": [
        "a = input() # 16진수\n",
        "b = 0\n",
        "li = {'a':10, 'b':11, 'c':12, 'd':13, 'e':14, 'f':15}\n",
        "for i, n in enumerate(a):\n",
        "\tif n in li.keys():\n",
        "\t\tn = li[n]\n",
        "\tb += int(n) * 16 ** (len(a)-(i+1))\n",
        "\n",
        "print('%o'%b)"
      ],
      "execution_count": null,
      "outputs": [
        {
          "output_type": "stream",
          "text": [
            "f\n",
            "17\n"
          ],
          "name": "stdout"
        }
      ]
    },
    {
      "cell_type": "code",
      "metadata": {
        "id": "xOJ2wtqdMMIt",
        "outputId": "4389d6ed-230e-44b3-9b41-9fec3b4ea2f4",
        "colab": {
          "base_uri": "https://localhost:8080/"
        }
      },
      "source": [
        "# ASCII\n",
        "a = input()\n",
        "print(ord(a))"
      ],
      "execution_count": null,
      "outputs": [
        {
          "output_type": "stream",
          "text": [
            "A\n",
            "65\n"
          ],
          "name": "stdout"
        }
      ]
    },
    {
      "cell_type": "code",
      "metadata": {
        "id": "VgZRmgw5MSpV",
        "outputId": "4e48d522-c18a-4c30-cd8d-51e5065dc289",
        "colab": {
          "base_uri": "https://localhost:8080/"
        }
      },
      "source": [
        "a = int(input())\n",
        "print(chr(a))"
      ],
      "execution_count": null,
      "outputs": [
        {
          "output_type": "stream",
          "text": [
            "65\n",
            "A\n"
          ],
          "name": "stdout"
        }
      ]
    },
    {
      "cell_type": "code",
      "metadata": {
        "id": "_2rfjTVwMe71",
        "outputId": "d6ceec08-2127-4e07-acff-2cf153b6facd",
        "colab": {
          "base_uri": "https://localhost:8080/"
        }
      },
      "source": [
        "a,b=input().split(' ')\n",
        "a = int(a)\n",
        "b = int(b)\n",
        "print(a+b)"
      ],
      "execution_count": null,
      "outputs": [
        {
          "output_type": "stream",
          "text": [
            "2147483648 2147483648\n",
            "4294967296\n"
          ],
          "name": "stdout"
        }
      ]
    },
    {
      "cell_type": "code",
      "metadata": {
        "id": "yYO9ipVeMjMw",
        "outputId": "aaa93838-c1e9-4623-9b61-e84b980aa90a",
        "colab": {
          "base_uri": "https://localhost:8080/"
        }
      },
      "source": [
        "# 1040\n",
        "a = int(input())\n",
        "print(-1*a)"
      ],
      "execution_count": null,
      "outputs": [
        {
          "output_type": "stream",
          "text": [
            "-1\n",
            "1\n"
          ],
          "name": "stdout"
        }
      ]
    },
    {
      "cell_type": "code",
      "metadata": {
        "id": "LBbJzb6kMsm8",
        "outputId": "b85a63c0-b666-4c6a-c484-e1c16ee41a80",
        "colab": {
          "base_uri": "https://localhost:8080/"
        }
      },
      "source": [
        "a = input()\n",
        "b = ord(a)\n",
        "print(chr(b+1))"
      ],
      "execution_count": null,
      "outputs": [
        {
          "output_type": "stream",
          "text": [
            "a\n",
            "b\n"
          ],
          "name": "stdout"
        }
      ]
    },
    {
      "cell_type": "code",
      "metadata": {
        "id": "BMVW-P43MxwS",
        "outputId": "ecaebe22-c71c-4218-f2d3-574ad63062e6",
        "colab": {
          "base_uri": "https://localhost:8080/"
        }
      },
      "source": [
        "a, b = input().split(' ')\n",
        "c = int(a) // int(b)\n",
        "print(c)"
      ],
      "execution_count": null,
      "outputs": [
        {
          "output_type": "stream",
          "text": [
            "1 3\n",
            "0\n"
          ],
          "name": "stdout"
        }
      ]
    },
    {
      "cell_type": "code",
      "metadata": {
        "id": "c2Ma6fJQM2XX",
        "outputId": "fd9a3e3e-a666-4024-9189-1592ca0a14cc",
        "colab": {
          "base_uri": "https://localhost:8080/"
        }
      },
      "source": [
        "a, b = input().split(' ')\n",
        "c = int(a) % int(b)\n",
        "print(c)"
      ],
      "execution_count": null,
      "outputs": [
        {
          "output_type": "stream",
          "text": [
            "10 3\n",
            "1\n"
          ],
          "name": "stdout"
        }
      ]
    },
    {
      "cell_type": "code",
      "metadata": {
        "id": "TyT0PDxUM9a7",
        "outputId": "e436d841-6483-4948-80ec-30378c2b51ba",
        "colab": {
          "base_uri": "https://localhost:8080/"
        }
      },
      "source": [
        "a = int(input())\n",
        "print(a+1)"
      ],
      "execution_count": null,
      "outputs": [
        {
          "output_type": "stream",
          "text": [
            "2147483647\n",
            "2147483648\n"
          ],
          "name": "stdout"
        }
      ]
    },
    {
      "cell_type": "code",
      "metadata": {
        "id": "vbj6SKyxNDz0",
        "outputId": "ac2bf21c-3e67-4656-ad58-78620c743ed4",
        "colab": {
          "base_uri": "https://localhost:8080/"
        }
      },
      "source": [
        "a, b = input().split(' ')\n",
        "a = int(a)\n",
        "b = int(b)\n",
        "\n",
        "print(a+b)\n",
        "print(a-b)\n",
        "print(a*b)\n",
        "print(a//b)\n",
        "print(a%b)\n",
        "print('%.2f'%(a/b))"
      ],
      "execution_count": null,
      "outputs": [
        {
          "output_type": "stream",
          "text": [
            "10 3\n",
            "13\n",
            "7\n",
            "30\n",
            "3\n",
            "1\n",
            "3.33\n"
          ],
          "name": "stdout"
        }
      ]
    },
    {
      "cell_type": "code",
      "metadata": {
        "id": "iRD8C1tWNISE",
        "outputId": "3e02ca2c-5001-44a6-950d-4ccce595b595",
        "colab": {
          "base_uri": "https://localhost:8080/"
        }
      },
      "source": [
        "a,b,c = input().split(' ')\n",
        "a = int(a)\n",
        "b = int(b)\n",
        "c = int(c)\n",
        "tot = a+b+c\n",
        "print(tot)\n",
        "print('%.1f' %(tot/3))"
      ],
      "execution_count": null,
      "outputs": [
        {
          "output_type": "stream",
          "text": [
            "1 2 3\n",
            "6\n",
            "2.0\n"
          ],
          "name": "stdout"
        }
      ]
    },
    {
      "cell_type": "code",
      "metadata": {
        "id": "cwDBQfCsNbI1",
        "outputId": "43ff2b91-9432-40fd-93e2-a3a3dd6e05e3",
        "colab": {
          "base_uri": "https://localhost:8080/"
        }
      },
      "source": [
        "# 1047\n",
        "a = int(input())\n",
        "print(a<<1)"
      ],
      "execution_count": null,
      "outputs": [
        {
          "output_type": "stream",
          "text": [
            "1\n",
            "2\n"
          ],
          "name": "stdout"
        }
      ]
    },
    {
      "cell_type": "code",
      "metadata": {
        "id": "EVlTklBpkoSE",
        "outputId": "8217ff94-aec7-4576-bbd9-62b992642c68",
        "colab": {
          "base_uri": "https://localhost:8080/"
        }
      },
      "source": [
        "a,b = input().split(' ')\n",
        "a = int(a)\n",
        "b = int(b)\n",
        "print(a<<b)"
      ],
      "execution_count": null,
      "outputs": [
        {
          "output_type": "stream",
          "text": [
            "1 3\n",
            "8\n"
          ],
          "name": "stdout"
        }
      ]
    },
    {
      "cell_type": "code",
      "metadata": {
        "id": "q9COVQoolITk",
        "outputId": "cac0db76-e51c-491d-89fd-3d0809262cf7",
        "colab": {
          "base_uri": "https://localhost:8080/"
        }
      },
      "source": [
        "a,b = input().split(' ')\n",
        "a = int(a)\n",
        "b = int(b)\n",
        "if a>b:\n",
        "  print(1)\n",
        "else:\n",
        "  print(0)"
      ],
      "execution_count": null,
      "outputs": [
        {
          "output_type": "stream",
          "text": [
            "9 1\n",
            "1\n"
          ],
          "name": "stdout"
        }
      ]
    },
    {
      "cell_type": "code",
      "metadata": {
        "id": "cxmHYHt0lXt7",
        "outputId": "fdbc2aac-6613-42a8-9cb2-954df4abb1b0",
        "colab": {
          "base_uri": "https://localhost:8080/"
        }
      },
      "source": [
        "# 1050\n",
        "a,b = input().split(' ')\n",
        "a = int(a)\n",
        "b = int(b)\n",
        "if a==b:\n",
        "  print(1)\n",
        "else:\n",
        "  print(0)"
      ],
      "execution_count": null,
      "outputs": [
        {
          "output_type": "stream",
          "text": [
            "0 0\n",
            "1\n"
          ],
          "name": "stdout"
        }
      ]
    },
    {
      "cell_type": "code",
      "metadata": {
        "id": "O_-K1mT6liaC",
        "outputId": "6ac73470-fd3e-4002-eda1-0c7f25aafbf9",
        "colab": {
          "base_uri": "https://localhost:8080/"
        }
      },
      "source": [
        "a,b = input().split(' ')\n",
        "a = int(a)\n",
        "b = int(b)\n",
        "if a<=b:\n",
        "  print(1)\n",
        "else:\n",
        "  print(0)"
      ],
      "execution_count": null,
      "outputs": [
        {
          "output_type": "stream",
          "text": [
            "0 -1\n",
            "0\n"
          ],
          "name": "stdout"
        }
      ]
    },
    {
      "cell_type": "code",
      "metadata": {
        "id": "5wF-4tiRlujT",
        "outputId": "426d8d92-1b54-49b6-b6a5-6cb9f03e4a2d",
        "colab": {
          "base_uri": "https://localhost:8080/"
        }
      },
      "source": [
        "a,b = input().split(' ')\n",
        "a = int(a)\n",
        "b = int(b)\n",
        "if a!=b:\n",
        "  print(1)\n",
        "else:\n",
        "  print(0)"
      ],
      "execution_count": null,
      "outputs": [
        {
          "output_type": "stream",
          "text": [
            "0 1\n",
            "1\n"
          ],
          "name": "stdout"
        }
      ]
    },
    {
      "cell_type": "code",
      "metadata": {
        "id": "Dwh_orMIl2qB",
        "outputId": "82cc2cbe-22f9-4417-d27c-e34eac064a5a",
        "colab": {
          "base_uri": "https://localhost:8080/"
        }
      },
      "source": [
        "a = int(input())\n",
        "print(int(not a))"
      ],
      "execution_count": null,
      "outputs": [
        {
          "output_type": "stream",
          "text": [
            "0\n",
            "1\n"
          ],
          "name": "stdout"
        }
      ]
    },
    {
      "cell_type": "code",
      "metadata": {
        "id": "bNWFhKydmFkE",
        "outputId": "942c4549-ca5e-45e7-ec75-3449510c5c27",
        "colab": {
          "base_uri": "https://localhost:8080/",
          "height": 51
        }
      },
      "source": [
        "# 1054\n",
        "a,b = input().split(' ')\n",
        "a = int(a)\n",
        "b = int(b)\n",
        "print(a and b)"
      ],
      "execution_count": null,
      "outputs": [
        {
          "output_type": "stream",
          "text": [
            "1 0\n",
            "0\n"
          ],
          "name": "stdout"
        }
      ]
    },
    {
      "cell_type": "code",
      "metadata": {
        "id": "qb_jKfmxmPnm",
        "outputId": "2f8991d5-91a8-4250-f513-1dda538afab7",
        "colab": {
          "base_uri": "https://localhost:8080/",
          "height": 51
        }
      },
      "source": [
        "a,b = input().split(' ')\n",
        "a = int(a)\n",
        "b = int(b)\n",
        "print(a or b)"
      ],
      "execution_count": null,
      "outputs": [
        {
          "output_type": "stream",
          "text": [
            "1 0\n",
            "1\n"
          ],
          "name": "stdout"
        }
      ]
    },
    {
      "cell_type": "code",
      "metadata": {
        "id": "5edgMjasrgx4",
        "outputId": "ce12b7de-bd3a-4e60-d130-95a9e4a92840",
        "colab": {
          "base_uri": "https://localhost:8080/",
          "height": 51
        }
      },
      "source": [
        "a,b = input().split(' ')\n",
        "a = int(a)\n",
        "b = int(b)\n",
        "print(a^b)"
      ],
      "execution_count": null,
      "outputs": [
        {
          "output_type": "stream",
          "text": [
            "1 1\n",
            "0\n"
          ],
          "name": "stdout"
        }
      ]
    },
    {
      "cell_type": "code",
      "metadata": {
        "id": "eN-gwlKQrubx",
        "outputId": "6faf22cc-ff51-4f19-8107-13e056f97ec2",
        "colab": {
          "base_uri": "https://localhost:8080/",
          "height": 51
        }
      },
      "source": [
        "a,b = input().split(' ')\n",
        "a = int(a)\n",
        "b = int(b)\n",
        "print(int(a==b))"
      ],
      "execution_count": null,
      "outputs": [
        {
          "output_type": "stream",
          "text": [
            "0 0\n",
            "1\n"
          ],
          "name": "stdout"
        }
      ]
    },
    {
      "cell_type": "code",
      "metadata": {
        "id": "8fQHyDaIr9yH",
        "outputId": "a79d8c0e-f5b9-4abf-a5c7-938d5111763e",
        "colab": {
          "base_uri": "https://localhost:8080/",
          "height": 51
        }
      },
      "source": [
        "a,b = input().split(' ')\n",
        "a = int(a)\n",
        "b = int(b)\n",
        "print(int(not(a or b)))"
      ],
      "execution_count": null,
      "outputs": [
        {
          "output_type": "stream",
          "text": [
            "0 0\n",
            "1\n"
          ],
          "name": "stdout"
        }
      ]
    },
    {
      "cell_type": "code",
      "metadata": {
        "id": "wFFhRojHsx6g",
        "outputId": "fa4cb7cb-eb47-4598-b777-f896e56a1567",
        "colab": {
          "base_uri": "https://localhost:8080/",
          "height": 51
        }
      },
      "source": [
        "a = int(input())\n",
        "print(~a)"
      ],
      "execution_count": null,
      "outputs": [
        {
          "output_type": "stream",
          "text": [
            "2\n",
            "-3\n"
          ],
          "name": "stdout"
        }
      ]
    },
    {
      "cell_type": "code",
      "metadata": {
        "id": "KP7eOmmUtOfA",
        "outputId": "a30bd33a-147c-467d-c485-ef513d48c827",
        "colab": {
          "base_uri": "https://localhost:8080/",
          "height": 51
        }
      },
      "source": [
        "# 1060\n",
        "a,b = input().split(' ')\n",
        "a = int(a)\n",
        "b = int(b)\n",
        "print(a&b)"
      ],
      "execution_count": null,
      "outputs": [
        {
          "output_type": "stream",
          "text": [
            "3 5\n",
            "1\n"
          ],
          "name": "stdout"
        }
      ]
    },
    {
      "cell_type": "code",
      "metadata": {
        "id": "M8GnkkdEt2Aq",
        "outputId": "5181b606-86c4-4b92-814c-e7d497d1e112",
        "colab": {
          "base_uri": "https://localhost:8080/",
          "height": 51
        }
      },
      "source": [
        "a,b = input().split(' ')\n",
        "a = int(a)\n",
        "b = int(b)\n",
        "print(a|b)"
      ],
      "execution_count": null,
      "outputs": [
        {
          "output_type": "stream",
          "text": [
            "3 5\n",
            "7\n"
          ],
          "name": "stdout"
        }
      ]
    },
    {
      "cell_type": "code",
      "metadata": {
        "id": "ZSir7zkSuGvz",
        "outputId": "a2825323-49bb-4662-f336-1f2fd97ca820",
        "colab": {
          "base_uri": "https://localhost:8080/",
          "height": 51
        }
      },
      "source": [
        "a,b = input().split(' ')\n",
        "a = int(a)\n",
        "b = int(b)\n",
        "print(a^b)"
      ],
      "execution_count": null,
      "outputs": [
        {
          "output_type": "stream",
          "text": [
            "3 5\n",
            "6\n"
          ],
          "name": "stdout"
        }
      ]
    },
    {
      "cell_type": "code",
      "metadata": {
        "id": "f2KiQj5xuSet",
        "outputId": "5eed6cd0-679c-45a1-979b-cbc8034540fd",
        "colab": {
          "base_uri": "https://localhost:8080/",
          "height": 51
        }
      },
      "source": [
        "a,b = input().split(' ')\n",
        "a = int(a)\n",
        "b = int(b)\n",
        "print(a if a>b else b)"
      ],
      "execution_count": null,
      "outputs": [
        {
          "output_type": "stream",
          "text": [
            "3 5\n",
            "5\n"
          ],
          "name": "stdout"
        }
      ]
    },
    {
      "cell_type": "code",
      "metadata": {
        "id": "zyPSwbIeuekP",
        "outputId": "3eefd1e4-2f4f-4e61-e878-70fb3168bd37",
        "colab": {
          "base_uri": "https://localhost:8080/",
          "height": 51
        }
      },
      "source": [
        "a,b,c = input().split(' ')\n",
        "a = int(a)\n",
        "b = int(b)\n",
        "c = int(c)\n",
        "if a>b:\n",
        "  if b>c:\n",
        "    print(c)\n",
        "  else:\n",
        "    print(b)\n",
        "else:\n",
        "  if a>c:\n",
        "    print(c)\n",
        "  else:\n",
        "    print(a)"
      ],
      "execution_count": null,
      "outputs": [
        {
          "output_type": "stream",
          "text": [
            "2581 102585 1102585\n",
            "102585\n"
          ],
          "name": "stdout"
        }
      ]
    },
    {
      "cell_type": "code",
      "metadata": {
        "id": "64_2-xMovKJ3",
        "outputId": "15b186d4-f510-46ce-c4be-99440bc833a8",
        "colab": {
          "base_uri": "https://localhost:8080/",
          "height": 68
        }
      },
      "source": [
        "a,b,c = input().split(' ')\n",
        "a = int(a)\n",
        "b = int(b)\n",
        "c = int(c)\n",
        "li = [a,b,c]\n",
        "for n in li:\n",
        "  if n%2 == 0:\n",
        "    print(n)"
      ],
      "execution_count": null,
      "outputs": [
        {
          "output_type": "stream",
          "text": [
            "1 2 4\n",
            "2\n",
            "4\n"
          ],
          "name": "stdout"
        }
      ]
    },
    {
      "cell_type": "code",
      "metadata": {
        "id": "cInDEhMLviqq",
        "outputId": "702d6002-ab27-4a35-de90-3b498f559bb7",
        "colab": {
          "base_uri": "https://localhost:8080/",
          "height": 85
        }
      },
      "source": [
        "a,b,c = input().split(' ')\n",
        "a = int(a)\n",
        "b = int(b)\n",
        "c = int(c)\n",
        "li = [a,b,c]\n",
        "for n in li:\n",
        "  if n%2 == 0:\n",
        "    print('even')\n",
        "  else:\n",
        "    print('odd')"
      ],
      "execution_count": null,
      "outputs": [
        {
          "output_type": "stream",
          "text": [
            "1 2 3\n",
            "odd\n",
            "even\n",
            "odd\n"
          ],
          "name": "stdout"
        }
      ]
    },
    {
      "cell_type": "code",
      "metadata": {
        "id": "7Vz0kyPIx51k",
        "outputId": "0d0cd024-4b00-4473-82bb-602b15feef0a",
        "colab": {
          "base_uri": "https://localhost:8080/",
          "height": 68
        }
      },
      "source": [
        "a = int(input())\n",
        "if a>0:\n",
        "  print('plus')\n",
        "else:\n",
        "  print('minus')\n",
        "if a%2 == 0:\n",
        "  print('even')\n",
        "else:\n",
        "  print('odd')"
      ],
      "execution_count": null,
      "outputs": [
        {
          "output_type": "stream",
          "text": [
            "-2147483648\n",
            "minus\n",
            "even\n"
          ],
          "name": "stdout"
        }
      ]
    },
    {
      "cell_type": "code",
      "metadata": {
        "id": "DvlAtPIkymG2",
        "outputId": "ff95b840-f994-483c-b68a-6711b064fbcb",
        "colab": {
          "base_uri": "https://localhost:8080/",
          "height": 51
        }
      },
      "source": [
        "a = int(input())\n",
        "if a>=90:\n",
        "  print('A')\n",
        "elif a>=70:\n",
        "  print('B')\n",
        "elif a>=40:\n",
        "  print('C')\n",
        "else:\n",
        "  print('D')"
      ],
      "execution_count": null,
      "outputs": [
        {
          "output_type": "stream",
          "text": [
            "73\n",
            "B\n"
          ],
          "name": "stdout"
        }
      ]
    },
    {
      "cell_type": "code",
      "metadata": {
        "id": "BnsdY7uA30Z0",
        "outputId": "8b961bee-01c2-4e61-d7a1-7577cf82c0f7",
        "colab": {
          "base_uri": "https://localhost:8080/",
          "height": 51
        }
      },
      "source": [
        "a = input()\n",
        "if a=='A':\n",
        "  print('best!!!')\n",
        "elif a=='B':\n",
        "  print('good!!')\n",
        "elif a=='C':\n",
        "  print('run!')\n",
        "elif a=='D':\n",
        "  print('slowly~')\n",
        "else:\n",
        "  print('what?')"
      ],
      "execution_count": null,
      "outputs": [
        {
          "output_type": "stream",
          "text": [
            "A\n",
            "best!!!\n"
          ],
          "name": "stdout"
        }
      ]
    },
    {
      "cell_type": "code",
      "metadata": {
        "id": "uONdP9LH4TeI",
        "outputId": "b6f4489d-65d9-4a85-ceea-8c54ec6f534b",
        "colab": {
          "base_uri": "https://localhost:8080/",
          "height": 51
        }
      },
      "source": [
        "a = int(input())\n",
        "if a in [12,1,2]:\n",
        "  print('winter')\n",
        "elif a in [3,4,5]:\n",
        "  print('spring')\n",
        "elif a in [6,7,8]:\n",
        "  print('summer')\n",
        "else:\n",
        "  print('fall')"
      ],
      "execution_count": null,
      "outputs": [
        {
          "output_type": "stream",
          "text": [
            "12\n",
            "winter\n"
          ],
          "name": "stdout"
        }
      ]
    },
    {
      "cell_type": "code",
      "metadata": {
        "id": "1_OVElce4wMk",
        "outputId": "b8086140-9655-4a7a-c4d9-40872ca498ff",
        "colab": {
          "base_uri": "https://localhost:8080/",
          "height": 102
        }
      },
      "source": [
        "a = []\n",
        "a = input().split(' ')\n",
        "for n in a:\n",
        "  if n == '0':\n",
        "    break\n",
        "  print(int(n))"
      ],
      "execution_count": null,
      "outputs": [
        {
          "output_type": "stream",
          "text": [
            "7 4 2 3 0 1 5 6 9 10 8\n",
            "7\n",
            "4\n",
            "2\n",
            "3\n"
          ],
          "name": "stdout"
        }
      ]
    },
    {
      "cell_type": "code",
      "metadata": {
        "id": "5Pp7Y7co7AIS",
        "outputId": "785e1632-8cc4-49e5-ca93-f60a4c50e38d",
        "colab": {
          "base_uri": "https://localhost:8080/",
          "height": 136
        }
      },
      "source": [
        "a = int(input())\n",
        "b = list(map(int,input().split(' ')))\n",
        "for n in b:\n",
        "  print(n)"
      ],
      "execution_count": null,
      "outputs": [
        {
          "output_type": "stream",
          "text": [
            "5\n",
            "1 2 3 4 5\n",
            "1\n",
            "2\n",
            "3\n",
            "4\n",
            "5\n"
          ],
          "name": "stdout"
        }
      ]
    },
    {
      "cell_type": "code",
      "metadata": {
        "id": "jMVG9fs75S6x",
        "outputId": "220198c6-494b-458d-eb70-fb76d1813433",
        "colab": {
          "base_uri": "https://localhost:8080/",
          "height": 102
        }
      },
      "source": [
        "# 1073\n",
        "a = list(map(int,input().split(' ')))\n",
        "for n in a:\n",
        "  if n==0:\n",
        "    break\n",
        "  print(n)"
      ],
      "execution_count": null,
      "outputs": [
        {
          "output_type": "stream",
          "text": [
            "7 4 2 3 0 1 5 6 9 10 8\n",
            "7\n",
            "4\n",
            "2\n",
            "3\n"
          ],
          "name": "stdout"
        }
      ]
    },
    {
      "cell_type": "code",
      "metadata": {
        "id": "0C4m-v235Ywi",
        "outputId": "f96f66bb-5d5d-4dd7-f8ac-7176bca77e3d",
        "colab": {
          "base_uri": "https://localhost:8080/",
          "height": 119
        }
      },
      "source": [
        "a = int(input())\n",
        "while a>0:\n",
        "  print(a)\n",
        "  a-=1"
      ],
      "execution_count": null,
      "outputs": [
        {
          "output_type": "stream",
          "text": [
            "5\n",
            "5\n",
            "4\n",
            "3\n",
            "2\n",
            "1\n"
          ],
          "name": "stdout"
        }
      ]
    },
    {
      "cell_type": "code",
      "metadata": {
        "id": "xEqyvgh49dlN",
        "outputId": "2f831b15-91d6-40ca-c683-2116482dfb8a",
        "colab": {
          "base_uri": "https://localhost:8080/",
          "height": 119
        }
      },
      "source": [
        "a = int(input())\n",
        "while a>0:\n",
        "  a-=1\n",
        "  print(a)"
      ],
      "execution_count": null,
      "outputs": [
        {
          "output_type": "stream",
          "text": [
            "5\n",
            "4\n",
            "3\n",
            "2\n",
            "1\n",
            "0\n"
          ],
          "name": "stdout"
        }
      ]
    },
    {
      "cell_type": "code",
      "metadata": {
        "id": "MKrTqzmH9mbo",
        "outputId": "5c8a2853-0a98-48db-e06b-e0f3b55c321c",
        "colab": {
          "base_uri": "https://localhost:8080/",
          "height": 136
        }
      },
      "source": [
        "a = ord(input())\n",
        "b = ord('a')\n",
        "while b<=a:\n",
        "  print(chr(b))\n",
        "  b += 1"
      ],
      "execution_count": null,
      "outputs": [
        {
          "output_type": "stream",
          "text": [
            "f\n",
            "a\n",
            "b\n",
            "c\n",
            "d\n",
            "e\n",
            "f\n"
          ],
          "name": "stdout"
        }
      ]
    },
    {
      "cell_type": "code",
      "metadata": {
        "id": "ZLx_OwtsDiYk",
        "outputId": "2ab66f62-647a-4cfa-929b-aa6e889acd87",
        "colab": {
          "base_uri": "https://localhost:8080/",
          "height": 221
        }
      },
      "source": [
        "a = int(input())\n",
        "b = 0\n",
        "while b<=a:\n",
        "  print(b)\n",
        "  b+=1"
      ],
      "execution_count": null,
      "outputs": [
        {
          "output_type": "stream",
          "text": [
            "10\n",
            "0\n",
            "1\n",
            "2\n",
            "3\n",
            "4\n",
            "5\n",
            "6\n",
            "7\n",
            "8\n",
            "9\n",
            "10\n"
          ],
          "name": "stdout"
        }
      ]
    },
    {
      "cell_type": "code",
      "metadata": {
        "id": "Bldnmmd-Dj6x",
        "outputId": "27657a62-6088-40c6-a3ab-b43c0b31f575",
        "colab": {
          "base_uri": "https://localhost:8080/",
          "height": 51
        }
      },
      "source": [
        "a = int(input())\n",
        "tot = 0\n",
        "b = 2\n",
        "while b<=a:\n",
        "  tot += b\n",
        "  b += 2\n",
        "print(tot)"
      ],
      "execution_count": null,
      "outputs": [
        {
          "output_type": "stream",
          "text": [
            "5\n",
            "6\n"
          ],
          "name": "stdout"
        }
      ]
    },
    {
      "cell_type": "code",
      "metadata": {
        "id": "JxkspyJhDnnA",
        "outputId": "6d865c48-d932-4112-f344-0b3ef9bc7133",
        "colab": {
          "base_uri": "https://localhost:8080/",
          "height": 136
        }
      },
      "source": [
        "a = input().split()\n",
        "for c in a:\n",
        "  print(c)\n",
        "  if c == 'q':\n",
        "    break"
      ],
      "execution_count": null,
      "outputs": [
        {
          "output_type": "stream",
          "text": [
            "x b k d l q g a c\n",
            "x\n",
            "b\n",
            "k\n",
            "d\n",
            "l\n",
            "q\n"
          ],
          "name": "stdout"
        }
      ]
    },
    {
      "cell_type": "code",
      "metadata": {
        "id": "fwHV2w_6DuOL",
        "outputId": "73d0093b-44c2-43da-8bd1-b2997e87167a",
        "colab": {
          "base_uri": "https://localhost:8080/",
          "height": 51
        }
      },
      "source": [
        "# 1080\n",
        "a = int(input())\n",
        "b = 0\n",
        "tot = 0\n",
        "while tot < a:\n",
        "  b += 1 \n",
        "  tot += b\n",
        "print(b)"
      ],
      "execution_count": null,
      "outputs": [
        {
          "output_type": "stream",
          "text": [
            "55\n",
            "10\n"
          ],
          "name": "stdout"
        }
      ]
    },
    {
      "cell_type": "code",
      "metadata": {
        "id": "qxHeiYx9FUBe",
        "outputId": "5ebdcf84-0022-4545-ee8d-07e3600363c4",
        "colab": {
          "base_uri": "https://localhost:8080/",
          "height": 136
        }
      },
      "source": [
        "a,b = input().split()\n",
        "a = int(a)\n",
        "b = int(b)\n",
        "for i in range(1, a+1):\n",
        "  for j in range(1, b+1):\n",
        "    print(i,j)"
      ],
      "execution_count": null,
      "outputs": [
        {
          "output_type": "stream",
          "text": [
            "2 3\n",
            "1 1\n",
            "1 2\n",
            "1 3\n",
            "2 1\n",
            "2 2\n",
            "2 3\n"
          ],
          "name": "stdout"
        }
      ]
    },
    {
      "cell_type": "code",
      "metadata": {
        "id": "tk0jRAGtoysV",
        "outputId": "92545b89-2f36-4e1c-eaf6-7304e43191f3",
        "colab": {
          "base_uri": "https://localhost:8080/",
          "height": 289
        }
      },
      "source": [
        "a = input()\n",
        "hex_li = {'A':10, 'B':11, 'C':12, 'D':13, 'E':14, 'F':15}\n",
        "n = hex_li[a]\n",
        "for i in range(1,16):\n",
        "  print(a+'*%X=%X' %(i,(n*i)))"
      ],
      "execution_count": null,
      "outputs": [
        {
          "output_type": "stream",
          "text": [
            "B\n",
            "B*1=B\n",
            "B*2=16\n",
            "B*3=21\n",
            "B*4=2C\n",
            "B*5=37\n",
            "B*6=42\n",
            "B*7=4D\n",
            "B*8=58\n",
            "B*9=63\n",
            "B*A=6E\n",
            "B*B=79\n",
            "B*C=84\n",
            "B*D=8F\n",
            "B*E=9A\n",
            "B*F=A5\n"
          ],
          "name": "stdout"
        }
      ]
    },
    {
      "cell_type": "code",
      "metadata": {
        "id": "70jWebFlptMg",
        "outputId": "6243028c-aa91-4c6f-ea57-40cdc9b2737b",
        "colab": {
          "base_uri": "https://localhost:8080/",
          "height": 51
        }
      },
      "source": [
        "a = int(input())\n",
        "res = ''\n",
        "for i in range(1,a+1):\n",
        "  if i in [3,6,9]:\n",
        "    res+='X '\n",
        "  else:\n",
        "    res+=str(i)+' '\n",
        "print(res)"
      ],
      "execution_count": 2,
      "outputs": [
        {
          "output_type": "stream",
          "text": [
            "9\n",
            "1 2 X 4 5 X 7 8 X \n"
          ],
          "name": "stdout"
        }
      ]
    },
    {
      "cell_type": "code",
      "metadata": {
        "id": "92E0XcMlpz0r",
        "outputId": "45696f90-102a-49cb-d067-cf192e6dde8a",
        "colab": {
          "base_uri": "https://localhost:8080/",
          "height": 187
        }
      },
      "source": [
        "a,b,c = input().split()\n",
        "a = int(a)\n",
        "b = int(b)\n",
        "c = int(c)\n",
        "for i in range(a):\n",
        "  for j in range(b):\n",
        "    for k in range(c):\n",
        "      print(i, j, k)\n",
        "print(a*b*c)"
      ],
      "execution_count": null,
      "outputs": [
        {
          "output_type": "stream",
          "text": [
            "2 2 2\n",
            "0 0 0\n",
            "0 0 1\n",
            "0 1 0\n",
            "0 1 1\n",
            "1 0 0\n",
            "1 0 1\n",
            "1 1 0\n",
            "1 1 1\n",
            "8\n"
          ],
          "name": "stdout"
        }
      ]
    },
    {
      "cell_type": "code",
      "metadata": {
        "id": "kg5dLDuMqXMe",
        "outputId": "5eea9042-bd35-4f09-cc54-92c362edf28f",
        "colab": {
          "base_uri": "https://localhost:8080/",
          "height": 51
        }
      },
      "source": [
        "a,b,c,d = input().split()\n",
        "a = int(a)\n",
        "b = int(b)\n",
        "c = int(c)\n",
        "d = int(d)\n",
        "res = a*b*c*d/(8*2**20)\n",
        "print('%.1f MB'%res)"
      ],
      "execution_count": null,
      "outputs": [
        {
          "output_type": "stream",
          "text": [
            "44100 16 2 10\n",
            "1.7MB\n"
          ],
          "name": "stdout"
        }
      ]
    },
    {
      "cell_type": "code",
      "metadata": {
        "id": "JZpTQ1uGrWhj",
        "outputId": "b67683f4-8200-4971-d732-8b7ea25ee757",
        "colab": {
          "base_uri": "https://localhost:8080/",
          "height": 51
        }
      },
      "source": [
        "a,b,c = input().split()\n",
        "a = int(a)\n",
        "b = int(b)\n",
        "c = int(c)\n",
        "res = a*b*c/(8*2**20)\n",
        "print('%.2f MB'%res)"
      ],
      "execution_count": null,
      "outputs": [
        {
          "output_type": "stream",
          "text": [
            "1024 768 24\n",
            "2.25 MB\n"
          ],
          "name": "stdout"
        }
      ]
    },
    {
      "cell_type": "code",
      "metadata": {
        "id": "T9GTMQZirba2",
        "outputId": "dc637d11-5b53-40d9-a16d-f960cbf50f28",
        "colab": {
          "base_uri": "https://localhost:8080/",
          "height": 51
        }
      },
      "source": [
        "a = int(input())\n",
        "tot = 0\n",
        "i = 0\n",
        "while tot < a:\n",
        "  i += 1\n",
        "  tot += i\n",
        "print(tot)"
      ],
      "execution_count": 4,
      "outputs": [
        {
          "output_type": "stream",
          "text": [
            "57\n",
            "66\n"
          ],
          "name": "stdout"
        }
      ]
    },
    {
      "cell_type": "code",
      "metadata": {
        "id": "gBBGqdYUwVv6",
        "outputId": "6113df73-b111-49cc-8bf6-7de65a407f07",
        "colab": {
          "base_uri": "https://localhost:8080/",
          "height": 51
        }
      },
      "source": [
        "a = int(input())\n",
        "ans = ''\n",
        "for i in range(1,a+1):\n",
        "  if i%3==0:\n",
        "    continue\n",
        "  ans+=str(i)+' '\n",
        "print(ans)"
      ],
      "execution_count": 1,
      "outputs": [
        {
          "output_type": "stream",
          "text": [
            "9\n",
            "1 2 4 5 7 8 \n"
          ],
          "name": "stdout"
        }
      ]
    },
    {
      "cell_type": "code",
      "metadata": {
        "id": "iVk0Tn1EBWr6",
        "outputId": "760659bb-94e7-4040-b63c-8d2cbf025aac",
        "colab": {
          "base_uri": "https://localhost:8080/",
          "height": 51
        }
      },
      "source": [
        "a,b,c = input().split()\n",
        "a = int(a)\n",
        "b = int(b)\n",
        "c = int(c)\n",
        "res = a + (c-1)*b\n",
        "print(res)"
      ],
      "execution_count": 3,
      "outputs": [
        {
          "output_type": "stream",
          "text": [
            "1 3 5\n",
            "13\n"
          ],
          "name": "stdout"
        }
      ]
    },
    {
      "cell_type": "code",
      "metadata": {
        "id": "pyYws9LTC42C",
        "outputId": "03e8f224-51a4-4a43-af2c-991ad8e1425b",
        "colab": {
          "base_uri": "https://localhost:8080/",
          "height": 51
        }
      },
      "source": [
        "a,b,c = input().split()\n",
        "a = int(a)\n",
        "b = int(b)\n",
        "c = int(c)\n",
        "res = a * (b ** (c-1))\n",
        "print(res) "
      ],
      "execution_count": 10,
      "outputs": [
        {
          "output_type": "stream",
          "text": [
            "2 3 7\n",
            "1458\n"
          ],
          "name": "stdout"
        }
      ]
    },
    {
      "cell_type": "code",
      "metadata": {
        "id": "94rNpgHgDiSr",
        "outputId": "cb852242-6a16-4422-b821-e71ebd5ca9ce",
        "colab": {
          "base_uri": "https://localhost:8080/",
          "height": 51
        }
      },
      "source": [
        "a,b,c,d = input().split()\n",
        "a = int(a)\n",
        "b = int(b)\n",
        "c = int(c)\n",
        "d = int(d)\n",
        "res = a\n",
        "for i in range(2,d+1):\n",
        "  res = res * b + c \n",
        "print(res)"
      ],
      "execution_count": 12,
      "outputs": [
        {
          "output_type": "stream",
          "text": [
            "1 -2 1 8\n",
            "-85\n"
          ],
          "name": "stdout"
        }
      ]
    },
    {
      "cell_type": "code",
      "metadata": {
        "id": "cgDcYbpZFC1V",
        "outputId": "18fea5b0-4985-4764-b46b-c44e5037baed",
        "colab": {
          "base_uri": "https://localhost:8080/",
          "height": 51
        }
      },
      "source": [
        "# 1092\n",
        "a,b,c = input().split()\n",
        "a = int(a)\n",
        "b = int(b)\n",
        "c = int(c)\n",
        "res = 1\n",
        "while (res%a!=0 or res%b!=0 or res%c!=0):\n",
        "  res += 1\n",
        "print(res)"
      ],
      "execution_count": 14,
      "outputs": [
        {
          "output_type": "stream",
          "text": [
            "3 7 9\n",
            "63\n"
          ],
          "name": "stdout"
        }
      ]
    },
    {
      "cell_type": "code",
      "metadata": {
        "id": "DDRc9WRoF58Z",
        "outputId": "7fbd802a-3134-4954-83bf-ccd582d1edb2",
        "colab": {
          "base_uri": "https://localhost:8080/",
          "height": 68
        }
      },
      "source": [
        "a = int(input())\n",
        "num = list(map(int,input().split()))\n",
        "res = [0 for i in range(24)]\n",
        "ans = ''\n",
        "for n in num:\n",
        "  res[n] += 1\n",
        "for i in range(1,24):\n",
        "  ans += str(res[i])+' '\n",
        "print(ans)"
      ],
      "execution_count": 17,
      "outputs": [
        {
          "output_type": "stream",
          "text": [
            "10\n",
            "1 3 2 2 5 6 7 4 5 9\n",
            "1 2 1 1 2 1 1 0 1 0 0 0 0 0 0 0 0 0 0 0 0 0 0 \n"
          ],
          "name": "stdout"
        }
      ]
    },
    {
      "cell_type": "code",
      "metadata": {
        "id": "U87LjvebGUYb",
        "outputId": "22059b50-b6c3-46a4-9680-d33c74062abc",
        "colab": {
          "base_uri": "https://localhost:8080/",
          "height": 68
        }
      },
      "source": [
        "a = int(input())\n",
        "num = list(map(int,input().split()))\n",
        "ans = ''\n",
        "i = a-1\n",
        "while i >= 0:\n",
        "  ans += str(num[i])+' '\n",
        "  i -= 1\n",
        "print(ans)"
      ],
      "execution_count": 4,
      "outputs": [
        {
          "output_type": "stream",
          "text": [
            "10\n",
            "10 4 2 3 6 6 7 9 8 5\n",
            "5 8 9 7 6 6 3 2 4 10 \n"
          ],
          "name": "stdout"
        }
      ]
    },
    {
      "cell_type": "code",
      "metadata": {
        "id": "BCGxs3SNHSoA",
        "outputId": "218b85b0-4f4b-4283-a8db-3bc1fc9ea8b7",
        "colab": {
          "base_uri": "https://localhost:8080/",
          "height": 68
        }
      },
      "source": [
        "a = int(input())\n",
        "num = list(map(int,input().split()))\n",
        "res = 24\n",
        "for n in num:\n",
        "  if res>n:\n",
        "    res = n\n",
        "print(res)"
      ],
      "execution_count": 6,
      "outputs": [
        {
          "output_type": "stream",
          "text": [
            "10\n",
            "10 4 2 3 6 6 7 9 8 5\n",
            "2\n"
          ],
          "name": "stdout"
        }
      ]
    },
    {
      "cell_type": "code",
      "metadata": {
        "id": "_wu6SUZCH9g0",
        "outputId": "0db1aba1-5509-4f8b-a1c1-902378cb57b1",
        "colab": {
          "base_uri": "https://localhost:8080/",
          "height": 442
        }
      },
      "source": [
        "a = int(input())\n",
        "arr = [[0 for i in range(20)] for j in range(20)]\n",
        "for i in range(a):\n",
        "  x,y = map(int,input().split())\n",
        "  arr[x][y] = 1\n",
        "for i in range(1,20):\n",
        "  b = ''\n",
        "  for j in range(1,20):\n",
        "    b += str(arr[i][j])+' '\n",
        "  print(b)"
      ],
      "execution_count": 10,
      "outputs": [
        {
          "output_type": "stream",
          "text": [
            "5\n",
            "1 1\n",
            "2 2\n",
            "3 3\n",
            "4 4\n",
            "5 5\n",
            "1 0 0 0 0 0 0 0 0 0 0 0 0 0 0 0 0 0 0 \n",
            "0 1 0 0 0 0 0 0 0 0 0 0 0 0 0 0 0 0 0 \n",
            "0 0 1 0 0 0 0 0 0 0 0 0 0 0 0 0 0 0 0 \n",
            "0 0 0 1 0 0 0 0 0 0 0 0 0 0 0 0 0 0 0 \n",
            "0 0 0 0 1 0 0 0 0 0 0 0 0 0 0 0 0 0 0 \n",
            "0 0 0 0 0 0 0 0 0 0 0 0 0 0 0 0 0 0 0 \n",
            "0 0 0 0 0 0 0 0 0 0 0 0 0 0 0 0 0 0 0 \n",
            "0 0 0 0 0 0 0 0 0 0 0 0 0 0 0 0 0 0 0 \n",
            "0 0 0 0 0 0 0 0 0 0 0 0 0 0 0 0 0 0 0 \n",
            "0 0 0 0 0 0 0 0 0 0 0 0 0 0 0 0 0 0 0 \n",
            "0 0 0 0 0 0 0 0 0 0 0 0 0 0 0 0 0 0 0 \n",
            "0 0 0 0 0 0 0 0 0 0 0 0 0 0 0 0 0 0 0 \n",
            "0 0 0 0 0 0 0 0 0 0 0 0 0 0 0 0 0 0 0 \n",
            "0 0 0 0 0 0 0 0 0 0 0 0 0 0 0 0 0 0 0 \n",
            "0 0 0 0 0 0 0 0 0 0 0 0 0 0 0 0 0 0 0 \n",
            "0 0 0 0 0 0 0 0 0 0 0 0 0 0 0 0 0 0 0 \n",
            "0 0 0 0 0 0 0 0 0 0 0 0 0 0 0 0 0 0 0 \n",
            "0 0 0 0 0 0 0 0 0 0 0 0 0 0 0 0 0 0 0 \n",
            "0 0 0 0 0 0 0 0 0 0 0 0 0 0 0 0 0 0 0 \n"
          ],
          "name": "stdout"
        }
      ]
    },
    {
      "cell_type": "code",
      "metadata": {
        "id": "v0Sc9gxnI3UK",
        "outputId": "aad2cab5-bb9b-40d5-b419-ea0950976d01",
        "colab": {
          "base_uri": "https://localhost:8080/",
          "height": 714
        }
      },
      "source": [
        "arr = []\n",
        "for i in range(19):\n",
        "  a = list(map(int,input().split()))\n",
        "  arr.append(a)\n",
        "n = int(input())\n",
        "for i in range(n):\n",
        "  x,y = map(int,input().split())\n",
        "  x-=1\n",
        "  y-=1\n",
        "  for i in range(19):\n",
        "    if arr[i][y] == 1:\n",
        "      arr[i][y] = 0\n",
        "    else:\n",
        "      arr[i][y] = 1\n",
        "    if arr[x][i] == 1:\n",
        "      arr[x][i] = 0\n",
        "    else:\n",
        "      arr[x][i] = 1\n",
        "for i in range(19):\n",
        "  b = ''\n",
        "  for j in range(19):\n",
        "    b += str(arr[i][j])+' '\n",
        "  print(b)"
      ],
      "execution_count": 15,
      "outputs": [
        {
          "output_type": "stream",
          "text": [
            "0 0 0 0 0 0 0 0 0 1 0 1 0 0 0 0 0 0 0\n",
            "0 0 0 0 0 0 0 0 0 1 0 1 0 0 0 0 0 0 0\n",
            "0 0 0 0 0 0 0 0 0 1 0 1 0 0 0 0 0 0 0\n",
            "0 0 0 0 0 0 0 0 0 1 0 1 0 0 0 0 0 0 0\n",
            "0 0 0 0 0 0 0 0 0 1 0 1 0 0 0 0 0 0 0\n",
            "0 0 0 0 0 0 0 0 0 1 0 1 0 0 0 0 0 0 0\n",
            "0 0 0 0 0 0 0 0 0 1 0 1 0 0 0 0 0 0 0\n",
            "0 0 0 0 0 0 0 0 0 1 0 1 0 0 0 0 0 0 0\n",
            "0 0 0 0 0 0 0 0 0 1 0 1 0 0 0 0 0 0 0\n",
            "1 1 1 1 1 1 1 1 1 1 1 1 1 1 1 1 1 1 1\n",
            "0 0 0 0 0 0 0 0 0 1 0 1 0 0 0 0 0 0 0\n",
            "1 1 1 1 1 1 1 1 1 1 1 1 1 1 1 1 1 1 1\n",
            "0 0 0 0 0 0 0 0 0 1 0 1 0 0 0 0 0 0 0\n",
            "0 0 0 0 0 0 0 0 0 1 0 1 0 0 0 0 0 0 0\n",
            "0 0 0 0 0 0 0 0 0 1 0 1 0 0 0 0 0 0 0\n",
            "0 0 0 0 0 0 0 0 0 1 0 1 0 0 0 0 0 0 0\n",
            "0 0 0 0 0 0 0 0 0 1 0 1 0 0 0 0 0 0 0\n",
            "0 0 0 0 0 0 0 0 0 1 0 1 0 0 0 0 0 0 0\n",
            "0 0 0 0 0 0 0 0 0 1 0 1 0 0 0 0 0 0 0\n",
            "2\n",
            "10 10\n",
            "12 12\n",
            "0 0 0 0 0 0 0 0 0 0 0 0 0 0 0 0 0 0 0 \n",
            "0 0 0 0 0 0 0 0 0 0 0 0 0 0 0 0 0 0 0 \n",
            "0 0 0 0 0 0 0 0 0 0 0 0 0 0 0 0 0 0 0 \n",
            "0 0 0 0 0 0 0 0 0 0 0 0 0 0 0 0 0 0 0 \n",
            "0 0 0 0 0 0 0 0 0 0 0 0 0 0 0 0 0 0 0 \n",
            "0 0 0 0 0 0 0 0 0 0 0 0 0 0 0 0 0 0 0 \n",
            "0 0 0 0 0 0 0 0 0 0 0 0 0 0 0 0 0 0 0 \n",
            "0 0 0 0 0 0 0 0 0 0 0 0 0 0 0 0 0 0 0 \n",
            "0 0 0 0 0 0 0 0 0 0 0 0 0 0 0 0 0 0 0 \n",
            "0 0 0 0 0 0 0 0 0 1 0 1 0 0 0 0 0 0 0 \n",
            "0 0 0 0 0 0 0 0 0 0 0 0 0 0 0 0 0 0 0 \n",
            "0 0 0 0 0 0 0 0 0 1 0 1 0 0 0 0 0 0 0 \n",
            "0 0 0 0 0 0 0 0 0 0 0 0 0 0 0 0 0 0 0 \n",
            "0 0 0 0 0 0 0 0 0 0 0 0 0 0 0 0 0 0 0 \n",
            "0 0 0 0 0 0 0 0 0 0 0 0 0 0 0 0 0 0 0 \n",
            "0 0 0 0 0 0 0 0 0 0 0 0 0 0 0 0 0 0 0 \n",
            "0 0 0 0 0 0 0 0 0 0 0 0 0 0 0 0 0 0 0 \n",
            "0 0 0 0 0 0 0 0 0 0 0 0 0 0 0 0 0 0 0 \n",
            "0 0 0 0 0 0 0 0 0 0 0 0 0 0 0 0 0 0 0 \n"
          ],
          "name": "stdout"
        }
      ]
    },
    {
      "cell_type": "code",
      "metadata": {
        "id": "Yr-LlYE2Jnad",
        "outputId": "ec050ffd-d83f-42c1-e083-ba3beb2fa35a",
        "colab": {
          "base_uri": "https://localhost:8080/",
          "height": 187
        }
      },
      "source": [
        "a,b = map(int,input().split())\n",
        "res = [[0 for i in range(b)] for j in range(a)]\n",
        "c = int(input())\n",
        "for i in range(c):\n",
        "  l,d,x,y = map(int,input().split())\n",
        "  if d == 0: # 가로\n",
        "    for j in range(l):\n",
        "      res[x-1][y-1] = 1\n",
        "      y+=1\n",
        "  else:\n",
        "    for j in range(l):\n",
        "      res[x-1][y-1] = 1\n",
        "      x+=1\n",
        "for i in range(a):\n",
        "  ans = ''\n",
        "  for j in range(b):\n",
        "    ans += str(res[i][j])+' '\n",
        "  print(ans)"
      ],
      "execution_count": 2,
      "outputs": [
        {
          "output_type": "stream",
          "text": [
            "5 5\n",
            "3\n",
            "2 0 1 1\n",
            "3 1 2 3\n",
            "4 1 2 5\n",
            "1 1 0 0 0 \n",
            "0 0 1 0 1 \n",
            "0 0 1 0 1 \n",
            "0 0 1 0 1 \n",
            "0 0 0 0 1 \n"
          ],
          "name": "stdout"
        }
      ]
    },
    {
      "cell_type": "code",
      "metadata": {
        "id": "PtwRp4dFKxsU",
        "outputId": "d9e9f99a-d05a-45e4-f11b-2359aaf2d659",
        "colab": {
          "base_uri": "https://localhost:8080/",
          "height": 357
        }
      },
      "source": [
        "# 1099\n",
        "arr = []\n",
        "for i in range(10):\n",
        "  a = list(map(int,input().split()))\n",
        "  arr.append(a)\n",
        "sx = 1\n",
        "sy = 1\n",
        "while True:\n",
        "\tif arr[sx][sy]==0:\n",
        "\t\tarr[sx][sy]=9\n",
        "\t\tif sx==8 and sy==8:\n",
        "\t\t\tbreak\n",
        "\t\tsy+=1\n",
        "\telif arr[sx][sy]==1:\n",
        "\t\tsx+=1\n",
        "\t\tsy-=1\n",
        "\telse: \n",
        "\t\tarr[sx][sy]=9\n",
        "\t\tbreak\n",
        "\t\n",
        "for i in range(10):\n",
        "  ans = ''\n",
        "  for j in range(10):\n",
        "    ans += str(arr[i][j])+' '\n",
        "  print(ans)\t\t"
      ],
      "execution_count": 1,
      "outputs": [
        {
          "output_type": "stream",
          "text": [
            "1 1 1 1 1 1 1 1 1 1\n",
            "1 0 0 1 0 0 0 0 0 1\n",
            "1 0 0 1 1 1 0 0 0 1\n",
            "1 0 0 0 0 0 0 1 0 1\n",
            "1 0 0 0 0 0 0 1 0 1\n",
            "1 0 0 0 0 1 0 1 0 1\n",
            "1 0 0 0 0 1 2 1 0 1\n",
            "1 0 0 0 0 1 0 0 0 1\n",
            "1 0 0 0 0 0 0 0 0 1\n",
            "1 1 1 1 1 1 1 1 1 1\n",
            "1 1 1 1 1 1 1 1 1 1 \n",
            "1 9 9 1 0 0 0 0 0 1 \n",
            "1 0 9 1 1 1 0 0 0 1 \n",
            "1 0 9 9 9 9 9 1 0 1 \n",
            "1 0 0 0 0 0 9 1 0 1 \n",
            "1 0 0 0 0 1 9 1 0 1 \n",
            "1 0 0 0 0 1 9 1 0 1 \n",
            "1 0 0 0 0 1 0 0 0 1 \n",
            "1 0 0 0 0 0 0 0 0 1 \n",
            "1 1 1 1 1 1 1 1 1 1 \n"
          ],
          "name": "stdout"
        }
      ]
    }
  ]
}